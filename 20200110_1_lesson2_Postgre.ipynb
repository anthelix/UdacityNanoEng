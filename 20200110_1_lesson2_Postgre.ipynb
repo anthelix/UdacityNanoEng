{
 "cells": [
  {
   "cell_type": "markdown",
   "metadata": {},
   "source": [
    "##### Some vocabulary\n",
    "* must be done in read heavy workloads to increaase performance == doit être fait dans les charges de travail lourdes en lecture pour augmenter la performance  \n",
    "* data integrity == protection des données  \n",
    "* likehood == l'assurance\n",
    "* more likely = plus probable\n",
    "* to be out of date = perime\n",
    "* to free = liberer\n",
    "* refactoring = remaniement\n",
    "* to reach = atteindre"
   ]
  },
  {
   "cell_type": "markdown",
   "metadata": {},
   "source": [
    "## Postegre"
   ]
  },
  {
   "cell_type": "markdown",
   "metadata": {},
   "source": [
    "**Rule 1**  by Codd's 12 : The information rule  \n",
    "_All information in a relational data base is represented explicitly at the logical level and in exactly one way – by values in table_"
   ]
  },
  {
   "cell_type": "markdown",
   "metadata": {},
   "source": [
    "### The Importance of a Relationnal Databases"
   ]
  },
  {
   "cell_type": "markdown",
   "metadata": {},
   "source": [
    "* Standardization of data model\n",
    "* Flexibility in adding and altering tables\n",
    "* Data Integrity\n",
    "* Structured Query Language (SQL)\n",
    "* Simplicity\n",
    "* Intuitive Organization"
   ]
  },
  {
   "cell_type": "markdown",
   "metadata": {},
   "source": [
    "### OLAP vs OLTP"
   ]
  },
  {
   "cell_type": "markdown",
   "metadata": {},
   "source": [
    "Online Amalytical Processing (OLAP)  \n",
    "* allow for complex analytical and ad hoc query, including agregations.\n",
    "* optimized for read\n",
    "* use it since it will require aggregation"
   ]
  },
  {
   "cell_type": "markdown",
   "metadata": {},
   "source": [
    "Online Transactionnal Processing(OLTP)  \n",
    "* allow for less complex queries in large volume.\n",
    "* queries are read, update, delete\n",
    "* use it for no aggragation or a litlle"
   ]
  },
  {
   "cell_type": "markdown",
   "metadata": {},
   "source": [
    "[understand the difference StackOverflow](https://stackoverflow.com/questions/21900185/what-are-oltp-and-olap-what-is-the-difference-between-them)"
   ]
  },
  {
   "cell_type": "markdown",
   "metadata": {},
   "source": [
    "### Structuring The Database"
   ]
  },
  {
   "cell_type": "markdown",
   "metadata": {},
   "source": [
    "1. Normalization  \n",
    "* to reduce data redundancy (doublon)\n",
    "* increase data integrity\n",
    "* answer from the database issthe correct answer\n",
    "* increasing the likehood that your data is correct in all locations\n",
    "2. Denormalization  \n",
    "* must be done in read heavy workloads to increaase performanc\n",
    "* some copies of data to increase performance\n",
    "* focused on the queries that will run"
   ]
  },
  {
   "cell_type": "markdown",
   "metadata": {},
   "source": [
    "**Normalization**"
   ]
  },
  {
   "cell_type": "markdown",
   "metadata": {},
   "source": [
    "_The process of structuring a relational database in accordance with a series of **normal forms** in order **to reduce data redundancy and increase sata integrity**_\n",
    "* no copieaof data\n",
    "* update data in one place, source of the truth\n",
    "* si trop de copie de donees, donnees perimees ou pas de update ou donees incorrect"
   ]
  },
  {
   "cell_type": "markdown",
   "metadata": {},
   "source": [
    "![Liens vers Database normalization Wiki](https://en.wikipedia.org/wiki/Database_normalization)"
   ]
  },
  {
   "cell_type": "markdown",
   "metadata": {},
   "source": [
    "Objectives of Normal Form:  \n",
    "  * To free the database from unwanted insertions, updates, & deletion dependencies\n",
    "  * To reduce the need for refactoring the database as new types of data are introduced\n",
    "  * To make the relational model more informative to users\n",
    "  * To make the database neutral to the query statistics\n"
   ]
  },
  {
   "cell_type": "markdown",
   "metadata": {},
   "source": [
    "Process of normalization:  \n",
    "   * How to reach First Normal Form (1NF):\n",
    "       * Atomic values: each cell contains unique and single values\n",
    "       * Be able to add data without altering tables\n",
    "       * Separate different relations into different tables\n",
    "       * Keep relationships between tables together with foreign keys\n",
    "   * Second Normal Form (2NF):\n",
    "       * Have reached 1NF\n",
    "       * All columns in the table must rely on the Primary Key, no composite key(associationd de @ col pour faire une key)\n",
    "   * Third Normal Form (3NF):\n",
    "       * Must be in 2nd Normal Form\n",
    "       * No transitive dependencies ( a revoir)\n",
    "       * Remember, transitive dependencies you are trying to maintain is that to get from A-> C, you want to avoid going through B.  \n",
    "\n",
    "When to use 3NF: When you want to update data, we want to be able to do in just 1 place. We want to avoid updating the table in the Customers Detail table (in the example in the lecture slide). \n"
   ]
  },
  {
   "cell_type": "markdown",
   "metadata": {},
   "source": []
  },
  {
   "cell_type": "markdown",
   "metadata": {},
   "source": []
  }
 ],
 "metadata": {
  "kernelspec": {
   "display_name": "Python 3",
   "language": "python",
   "name": "python3"
  },
  "language_info": {
   "codemirror_mode": {
    "name": "ipython",
    "version": 3
   },
   "file_extension": ".py",
   "mimetype": "text/x-python",
   "name": "python",
   "nbconvert_exporter": "python",
   "pygments_lexer": "ipython3",
   "version": "3.7.3"
  }
 },
 "nbformat": 4,
 "nbformat_minor": 2
}
