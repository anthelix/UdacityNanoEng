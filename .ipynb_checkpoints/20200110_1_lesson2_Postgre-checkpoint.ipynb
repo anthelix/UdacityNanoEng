{
 "cells": [
  {
   "cell_type": "markdown",
   "metadata": {},
   "source": [
    "## Postegre"
   ]
  },
  {
   "cell_type": "markdown",
   "metadata": {},
   "source": [
    "**Rule 1**  by Codd's 12 : The information rule  \n",
    "_All information in a relational data base is represented explicitly at the logical level and in exactly one way – by values in table_"
   ]
  },
  {
   "cell_type": "markdown",
   "metadata": {},
   "source": [
    "### The Importance of a Relationnal Databases"
   ]
  },
  {
   "cell_type": "markdown",
   "metadata": {},
   "source": [
    "* Standardization of data model\n",
    "* Flexibility in adding and altering tables\n",
    "* Data Integrity\n",
    "* Structured Query Language (SQL)\n",
    "* Simplicity\n",
    "* Intuitive Organization"
   ]
  },
  {
   "cell_type": "markdown",
   "metadata": {},
   "source": [
    "### OLAP vs OLTP"
   ]
  },
  {
   "cell_type": "markdown",
   "metadata": {},
   "source": [
    "Online Amalytical Processing (OLAP)  \n",
    "* allow for complex analytical and ad hoc query, including agregations.\n",
    "* optimized for read\n",
    "* use it since it will require aggregation"
   ]
  },
  {
   "cell_type": "markdown",
   "metadata": {},
   "source": [
    "Online Transactionnal Processing(OLTP)  \n",
    "* allow for less complex queries in large volume.\n",
    "* queries are read, update, delete\n",
    "* use it for no aggragation or a litlle"
   ]
  },
  {
   "cell_type": "markdown",
   "metadata": {},
   "source": [
    "[understand the difference StackOverflow](https://stackoverflow.com/questions/21900185/what-are-oltp-and-olap-what-is-the-difference-between-them)"
   ]
  },
  {
   "cell_type": "markdown",
   "metadata": {},
   "source": []
  },
  {
   "cell_type": "markdown",
   "metadata": {},
   "source": []
  },
  {
   "cell_type": "markdown",
   "metadata": {},
   "source": []
  },
  {
   "cell_type": "markdown",
   "metadata": {},
   "source": []
  },
  {
   "cell_type": "markdown",
   "metadata": {},
   "source": []
  },
  {
   "cell_type": "markdown",
   "metadata": {},
   "source": []
  }
 ],
 "metadata": {
  "kernelspec": {
   "display_name": "Python 3",
   "language": "python",
   "name": "python3"
  },
  "language_info": {
   "codemirror_mode": {
    "name": "ipython",
    "version": 3
   },
   "file_extension": ".py",
   "mimetype": "text/x-python",
   "name": "python",
   "nbconvert_exporter": "python",
   "pygments_lexer": "ipython3",
   "version": "3.7.3"
  }
 },
 "nbformat": 4,
 "nbformat_minor": 2
}
