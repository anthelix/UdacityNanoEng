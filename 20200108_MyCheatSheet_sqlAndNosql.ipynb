{
 "cells": [
  {
   "cell_type": "markdown",
   "metadata": {},
   "source": [
    "## PostgreSql"
   ]
  },
  {
   "cell_type": "markdown",
   "metadata": {},
   "source": [
    "Pstgresql utilise modele client/serveur  \n",
    "* Processus serveur --> gere fichier Bdd, accepte connexion de appli clientes, effectue action sur la base  \n",
    "* Application cliente --> veut effectuer operation sur bdd, Ac peut etre outil texte, appli graphiq, serveur web  \n",
    "\n",
    "client et serveur possible sur hote different --> commmunique par TCP/IP  \n",
    "multiple connexion possible en meme temps, nv processus pour chaque connexion\n"
   ]
  },
  {
   "cell_type": "markdown",
   "metadata": {},
   "source": [
    "**Creation base de donnees** `createdb ma_base`"
   ]
  },
  {
   "cell_type": "markdown",
   "metadata": {},
   "source": [
    "**Detruire Base de donnees** `dropdb ma_base`"
   ]
  },
  {
   "cell_type": "markdown",
   "metadata": {},
   "source": [
    "**Acceder a une base**  \n",
    "* lancer editeur commande `psql ma_base`\n",
    "* `SELECT version();`\n",
    "* `SELECT current_date;`\n",
    "* commande interne `\\h`\n",
    "    *`\\h` help\n",
    "    *`\\q` sortir de psql"
   ]
  },
  {
   "cell_type": "markdown",
   "metadata": {},
   "source": [
    "## Apache Cassandra"
   ]
  },
  {
   "cell_type": "markdown",
   "metadata": {},
   "source": [
    "* Espace cle: conteneur le plus externe pour C, collection de familles de colonnes\n",
    "* Famille de colonne: collection de lignes, cq ligne collection de colonne\n",
    "* Colonne, unites de base, trois valeurs\n",
    "    * nom de la cle ou dela colonne\n",
    "    * valeur de la colonne\n",
    "    * horodatage\n",
    "* Super-colonne, stoc une carte d'autre colonne\n"
   ]
  },
  {
   "cell_type": "markdown",
   "metadata": {},
   "source": [
    "* `cassandra` pour demarrer\n",
    "* `/opt/cassandra/bin/nodetool status` pour verifier que cassandra fonctionne\n",
    "* "
   ]
  },
  {
   "cell_type": "markdown",
   "metadata": {},
   "source": [
    "creer un key espace k1 sans authification d'utilisateur  \n",
    "`cqlsh localhost -e \"CREATE KEYSPACE IF NOT EXISTS k1 WITH replication = {'class': 'SimpleStrategy', 'replication_factor': '1'}  AND durable_writes = true;\"`"
   ]
  },
  {
   "cell_type": "markdown",
   "metadata": {},
   "source": [
    "creer un key espace k1 avec authentification  \n",
    "`cqlsh -u <username> -p <password> localhost -e \"CREATE KEYSPACE IF NOT EXISTS k1 WITH replication = {'class': 'SimpleStrategy', 'replication_factor': '1'}  AND durable_writes = true;\"`"
   ]
  },
  {
   "cell_type": "markdown",
   "metadata": {},
   "source": [
    "ou lancer invite cqlsh  \n",
    "`cqlsh -u <username> -p <password> localhost`  \n",
    "puis executer des requetes  \n",
    "`CREATE KEYSPACE IF NOT EXISTS k1 WITH replication = {'class': 'SimpleStrategy', 'replication_factor': '1'}  AND durable_writes = true;`"
   ]
  },
  {
   "cell_type": "markdown",
   "metadata": {},
   "source": [
    "indiquer quel espace key a cqlsh  \n",
    "`USE k1;`"
   ]
  },
  {
   "cell_type": "markdown",
   "metadata": {},
   "source": [
    "creer une table, eqv famille de colonnes, +rs types de donnees  \n",
    "`CREATE TABLE person (\n",
    "    id text,\n",
    "    name text,\n",
    "    surname text,\n",
    "    PRIMARY KEY (id));`"
   ]
  },
  {
   "cell_type": "markdown",
   "metadata": {},
   "source": [
    "verifier creation de la struc de la table, visualiser la struct  \n",
    "`DESCRIBE person;`"
   ]
  },
  {
   "cell_type": "markdown",
   "metadata": {},
   "source": [
    "modifier la table et ajouter un champ  \n",
    "`ALTER TABLE person ADD email text;`"
   ]
  },
  {
   "cell_type": "markdown",
   "metadata": {},
   "source": [
    "selectionner des colonnes et visualiser\n",
    "`SELECT * FROM person`"
   ]
  },
  {
   "cell_type": "markdown",
   "metadata": {},
   "source": [
    "insere donnes  \n",
    "`INSERT INTO person (id, name, surname, email) VALUES ('001', 'Shalabh', 'Aggarwal', 'contact@shalabhaggarwal.com');`"
   ]
  },
  {
   "cell_type": "markdown",
   "metadata": {},
   "source": [
    "mettre a jour les valeurs  \n",
    "`UPDATE person SET email='shalabh.agrwal@gmail.com' WHERE id='001';`"
   ]
  },
  {
   "cell_type": "markdown",
   "metadata": {},
   "source": [
    "recherche des donnees  \n",
    "`SELECT name FROM person WHERE id='001';`  \n",
    "`SELECT name FROM person WHERE id IN ('001', '002');`  "
   ]
  },
  {
   "cell_type": "markdown",
   "metadata": {},
   "source": [
    "![documentation NoSql Apache Cassandra](https://mbaron.developpez.com/tutoriels/nosql/cassandra/installation-outils-administration/)"
   ]
  },
  {
   "cell_type": "markdown",
   "metadata": {},
   "source": [
    "## CASSANDRA lesson 3"
   ]
  },
  {
   "cell_type": "markdown",
   "metadata": {},
   "source": [
    "* import cassandra  \n",
    "* from cassandra.cluster import Cluster  \n",
    "* cluster = Cluster(['127.0.0.1'])  \n",
    "* session = cluster.connect()  \n",
    "* session.execute(\"\"\"\n",
    "    CREATE KEYSPACE IF NOT EXISTS udacity \n",
    "    WITH REPLICATION = \n",
    "    { 'class' : 'SimpleStrategy', 'replication_factor' : 1 }\"\"\"  \n",
    "* session.set_keyspace('udacity') "
   ]
  },
  {
   "cell_type": "markdown",
   "metadata": {},
   "source": [
    "We want to ask 3 questions of our data\n",
    "* Give every album in the music library that was released in a given year select * from music_library WHERE YEAR=1970\n",
    "\n",
    "* Give every album in the music library that was created by a given artist select * from artist_library WHERE artist_name=\"The Beatles\"\n",
    "\n",
    "* Give all the information from the music library about a given album select * from album_library WHERE album_name=\"Close To You\"\n",
    "\n",
    "The music library table will be partitioned by year that will become the partition key, and artist name will be the clustering column to make each Primary Key unique.   \n",
    "The artist library table will be partitioned by artist name that will be the partition key, and year will be the clustering column to make each Primary Key unique. More on Primary keys in the next lesson and demo.   \n",
    "The album library table will be partitioned by album name that will be the partition key, and artist will be the clustering colum to make each Primary Key unique.\n"
   ]
  },
  {
   "cell_type": "markdown",
   "metadata": {},
   "source": [
    "## create tables\n",
    "\n",
    "* query = \"CREATE TABLE IF NOT EXISTS music_library \"\n",
    "* query = query + \"(year int, artist_name text, album_name text, PRIMARY KEY (year, artist_name))\"\n",
    "\n",
    "* query = \"CREATE TABLE IF NOT EXISTS artist_library \"\n",
    "* query = query + \"(artist_name text, year int, album_name text, PRIMARY KEY (artist_name,  year))\"\n",
    "\n",
    "* query = \"CREATE TABLE IF NOT EXISTS album_library \"\n",
    "* query = query + \"(artist_name text, album_name text, year int, PRIMARY KEY (album_name, artist_name))\"\n",
    "\n",
    "## insert data\n",
    "\n",
    "* query = \"INSERT INTO music_library (year, artist_name, album_name)\"\n",
    "* query = query + \" VALUES (%s, %s, %s)\"\n",
    "\n",
    "* query1 = \"INSERT INTO artist_library (artist_name, year, album_name)\"\n",
    "* query1 = query1 + \" VALUES (%s, %s, %s)\"\n",
    "\n",
    "* query2 = \"INSERT INTO album_library (album_name, artist_name, year)\"\n",
    "* query2 = query2 + \" VALUES (%s, %s, %s)\"\n",
    "\n",
    "* session.execute(query, (1970, \"The Beatles\", \"Let it Be\"))\n",
    "* session.execute(query, (1965, \"The Beatles\", \"Rubber Soul\"))\n",
    "\n",
    "* session.execute(query1, (\"The Monkees\", 1966, \"The Monkees\"))\n",
    "* session.execute(query1, (\"The Who\", 1965, \"My Generation\"))\n",
    "\n",
    "* session.execute(query2, (\"Let it Be\", \"The Beatles\", 1970))\n",
    "* session.execute(query2, (\"My Generation\", \"The Who\", 1965))\n",
    "\n",
    "## validate data model\n",
    "\n",
    "* query = \"select * from music_library WHERE YEAR=1970\"\n",
    "* rows = session.execute(query)\n",
    "* for row in rows:\n",
    "    print (row.year, row.artist_name, row.album_name,)\n",
    "\n",
    "* query = \"select * from artist_library WHERE ARTIST_NAME='The Beatles'\"\n",
    "* rows = session.execute(query)\n",
    "* for row in rows:\n",
    "    print (row.artist_name, row.year, row.album_name)\n",
    "    \n",
    "* query = \"select * from album_library WHERE ALBUM_NAME='Close To You'\"\n",
    "* rows = session.execute(query)\n",
    "* for row in rows:\n",
    "    print (row.artist_name, row.year, row.album_name)\n",
    "    \n",
    "## drop table \n",
    "\n",
    "* query = \"drop table music_library\"\n",
    "* rows = session.execute(query)\n",
    "\n",
    "* query = \"drop table album_library\"\n",
    "* rows = session.execute(query)\n",
    "\n",
    "* query = \"drop table artist_library\"\n",
    "* rows = session.execute(query)"
   ]
  },
  {
   "cell_type": "markdown",
   "metadata": {},
   "source": []
  },
  {
   "cell_type": "markdown",
   "metadata": {},
   "source": []
  },
  {
   "cell_type": "markdown",
   "metadata": {},
   "source": []
  },
  {
   "cell_type": "markdown",
   "metadata": {},
   "source": []
  },
  {
   "cell_type": "markdown",
   "metadata": {},
   "source": []
  },
  {
   "cell_type": "markdown",
   "metadata": {},
   "source": []
  },
  {
   "cell_type": "markdown",
   "metadata": {},
   "source": []
  },
  {
   "cell_type": "code",
   "execution_count": null,
   "metadata": {},
   "outputs": [],
   "source": []
  }
 ],
 "metadata": {
  "kernelspec": {
   "display_name": "Python 2",
   "language": "python",
   "name": "python2"
  },
  "language_info": {
   "codemirror_mode": {
    "name": "ipython",
    "version": 2
   },
   "file_extension": ".py",
   "mimetype": "text/x-python",
   "name": "python",
   "nbconvert_exporter": "python",
   "pygments_lexer": "ipython2",
   "version": "2.7.16"
  }
 },
 "nbformat": 4,
 "nbformat_minor": 2
}
