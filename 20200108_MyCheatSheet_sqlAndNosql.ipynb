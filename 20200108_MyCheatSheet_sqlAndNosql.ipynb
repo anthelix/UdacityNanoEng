{
 "cells": [
  {
   "cell_type": "markdown",
   "metadata": {},
   "source": [
    "## PostgreSql"
   ]
  },
  {
   "cell_type": "markdown",
   "metadata": {},
   "source": [
    "Pstgresql utilise modele client/serveur  \n",
    "* Processus serveur --> gere fichier Bdd, accepte connexion de appli clientes, effectue action sur la base  \n",
    "* Application cliente --> veut effectuer operation sur bdd, Ac peut etre outil texte, appli graphiq, serveur web  \n",
    "\n",
    "client et serveur possible sur hote different --> commmunique par TCP/IP  \n",
    "multiple connexion possible en meme temps, nv processus pour chaque connexion\n"
   ]
  },
  {
   "cell_type": "markdown",
   "metadata": {},
   "source": [
    "**Creation base de donnees** `createdb ma_base`"
   ]
  },
  {
   "cell_type": "markdown",
   "metadata": {},
   "source": [
    "**Detruire Base de donnees** `dropdb ma_base`"
   ]
  },
  {
   "cell_type": "markdown",
   "metadata": {},
   "source": [
    "**Acceder a une base**  \n",
    "* lancer editeur commande `psql ma_base`\n",
    "* `SELECT version();`\n",
    "* `SELECT current_date;`\n",
    "* commande interne `\\h`\n",
    "    *`\\h` help\n",
    "    *`\\q` sortir de psql"
   ]
  },
  {
   "cell_type": "markdown",
   "metadata": {},
   "source": [
    "## Apache Cassandra"
   ]
  },
  {
   "cell_type": "markdown",
   "metadata": {},
   "source": [
    "* Espace cle: conteneur le plus externe pour C, collection de familles de colonnes\n",
    "* Famille de colonne: collection de lignes, cq ligne collection de colonne\n",
    "* Colonne, unites de base, trois valeurs\n",
    "    * nom de la cle ou dela colonne\n",
    "    * valeur de la colonne\n",
    "    * horodatage\n",
    "* Super-colonne, stoc une carte d'autre colonne\n"
   ]
  },
  {
   "cell_type": "markdown",
   "metadata": {},
   "source": [
    "* `cassandra` pour demarrer\n",
    "* `/opt/cassandra/bin/nodetool status` pour verifier que cassandra fonctionne\n",
    "* "
   ]
  },
  {
   "cell_type": "markdown",
   "metadata": {},
   "source": [
    "creer un key espace k1 sans authification d'utilisateur  \n",
    "`cqlsh localhost -e \"CREATE KEYSPACE IF NOT EXISTS k1 WITH replication = {'class': 'SimpleStrategy', 'replication_factor': '1'}  AND durable_writes = true;\"`"
   ]
  },
  {
   "cell_type": "markdown",
   "metadata": {},
   "source": [
    "creer un key espace k1 avec authentification  \n",
    "`cqlsh -u <username> -p <password> localhost -e \"CREATE KEYSPACE IF NOT EXISTS k1 WITH replication = {'class': 'SimpleStrategy', 'replication_factor': '1'}  AND durable_writes = true;\"`"
   ]
  },
  {
   "cell_type": "markdown",
   "metadata": {},
   "source": [
    "ou lancer invite cqlsh  \n",
    "`cqlsh -u <username> -p <password> localhost`  \n",
    "puis executer des requetes  \n",
    "`CREATE KEYSPACE IF NOT EXISTS k1 WITH replication = {'class': 'SimpleStrategy', 'replication_factor': '1'}  AND durable_writes = true;`"
   ]
  },
  {
   "cell_type": "markdown",
   "metadata": {},
   "source": [
    "indiquer quel espace key a cqlsh  \n",
    "`USE k1;`"
   ]
  },
  {
   "cell_type": "markdown",
   "metadata": {},
   "source": [
    "creer une table, eqv famille de colonnes, +rs types de donnees  \n",
    "`CREATE TABLE person (\n",
    "    id text,\n",
    "    name text,\n",
    "    surname text,\n",
    "    PRIMARY KEY (id));`"
   ]
  },
  {
   "cell_type": "markdown",
   "metadata": {},
   "source": [
    "verifier creation de la struc de la table, visualiser la struct  \n",
    "`DESCRIBE person;`"
   ]
  },
  {
   "cell_type": "markdown",
   "metadata": {},
   "source": [
    "modifier la table et ajouter un champ  \n",
    "`ALTER TABLE person ADD email text;`"
   ]
  },
  {
   "cell_type": "markdown",
   "metadata": {},
   "source": [
    "selectionner des colonnes et visualiser\n",
    "`SELECT * FROM person`"
   ]
  },
  {
   "cell_type": "markdown",
   "metadata": {},
   "source": [
    "insere donnes  \n",
    "`INSERT INTO person (id, name, surname, email) VALUES ('001', 'Shalabh', 'Aggarwal', 'contact@shalabhaggarwal.com');`"
   ]
  },
  {
   "cell_type": "markdown",
   "metadata": {},
   "source": [
    "mettre a jour les valeurs  \n",
    "`UPDATE person SET email='shalabh.agrwal@gmail.com' WHERE id='001';`"
   ]
  },
  {
   "cell_type": "markdown",
   "metadata": {},
   "source": [
    "recherche des donnees  \n",
    "`SELECT name FROM person WHERE id='001';`  \n",
    "`SELECT name FROM person WHERE id IN ('001', '002');`  "
   ]
  },
  {
   "cell_type": "markdown",
   "metadata": {},
   "source": [
    "![documentation NoSql Apache Cassandra](https://mbaron.developpez.com/tutoriels/nosql/cassandra/installation-outils-administration/)"
   ]
  },
  {
   "cell_type": "code",
   "execution_count": null,
   "metadata": {},
   "outputs": [],
   "source": []
  }
 ],
 "metadata": {
  "kernelspec": {
   "display_name": "Python 2",
   "language": "python",
   "name": "python2"
  },
  "language_info": {
   "codemirror_mode": {
    "name": "ipython",
    "version": 2
   },
   "file_extension": ".py",
   "mimetype": "text/x-python",
   "name": "python",
   "nbconvert_exporter": "python",
   "pygments_lexer": "ipython2",
   "version": "2.7.16"
  }
 },
 "nbformat": 4,
 "nbformat_minor": 2
}
