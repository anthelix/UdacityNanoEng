{
 "cells": [
  {
   "cell_type": "markdown",
   "metadata": {},
   "source": [
    "# NoSQL Data Models"
   ]
  },
  {
   "cell_type": "markdown",
   "metadata": {},
   "source": [
    "#### Vocabulary\n",
    "* eventual consistency = cohérence éventuelle\n",
    "* \n"
   ]
  },
  {
   "cell_type": "markdown",
   "metadata": {},
   "source": [
    "* [Types and selection NoSql Databases](https://www.xenonstack.com/blog/nosql-databases/)\n",
    "* [dataBase in french](https://www.lebigdata.fr/base-de-donnees#ftoc-heading-18)\n",
    "* [Understanding the architecture](https://docs.datastax.com/en/cassandra/3.0/cassandra/architecture/archTOC.html)\n",
    "* [Cassandra Architecture](https://www.tutorialspoint.com/cassandra/cassandra_architecture.htm)\n",
    "* [Cassandra Documentation](https://docs.datastax.com/en/cassandra/3.0/cassandra/dml/dmlIntro.html)\n",
    "* [CAP Theorem](https://en.wikipedia.org/wiki/CAP_theorem)\n",
    "* [Data modeling Approach dataStax documents on Apache Cassandra](https://docs.datastax.com/en/dse/6.7/cql/cql/ddl/dataModelingApproach.html)"
   ]
  },
  {
   "cell_type": "code",
   "execution_count": null,
   "metadata": {},
   "outputs": [],
   "source": []
  },
  {
   "cell_type": "markdown",
   "metadata": {},
   "source": [
    "Ce sont les grandes entreprises du web amenées à traiter des volumes de données très importants qui ont été les premières confrontées aux limitations intrinsèques des SGBD relationnels traditionnels. Ces systèmes fondés sur une application stricte des propriétés ACID et généralement conçus pour fonctionner sur des ordinateurs uniques, ont rapidement posé des problèmes d'extensibilité. "
   ]
  },
  {
   "cell_type": "markdown",
   "metadata": {},
   "source": [
    "Un modèle typique en NoSQL est le système clé-valeur, avec une base de données pouvant se résumer topologiquement à un simple tableau associatif unidimensionnel avec des millions — voire des milliards — d'entrées"
   ]
  },
  {
   "cell_type": "markdown",
   "metadata": {},
   "source": [
    "Les caractéristiques principales des SGBD NoSQL sont de permettre la manipulation de volumes de données importants et de permettre une scalabilité horizontale. "
   ]
  },
  {
   "cell_type": "markdown",
   "metadata": {},
   "source": [
    "### Base de données distribuée\n",
    "\n",
    "Une BDD distribuée est une database dont certaines portions sont stockées à plusieurs endroits physiques. Le traitement est réparti ou répliqué entre différents points d’un réseau.  \n",
    "Les bases de données distribuées peuvent être **homogènes ou hétérogènes**. Dans le cas d’un système de base de données distribuée **homogène**, tous les emplacements physiques fonctionnent avec le même hardware et tournent sous le même système d’exploitation et les mêmes applications de bases de données. Au contraire, dans le cas d’une database distribuée **hétérogène**, le hardware, les systèmes d’exploitation et les applications de bases de données peuvent varier entre les différents endroits physiques."
   ]
  },
  {
   "cell_type": "markdown",
   "metadata": {},
   "source": [
    "**Les capacités ACID** garantissent que si plusieurs utilisateurs font de manière simultanée des modifications des données, toutes les modifications vont être prises en compte, dans un ordre précis et maîtrisé de manière à avoir un résultat cohérent (intégrité des données) avec l'historique des modifications faites par chacun. La mise en œuvre stricte des capacités ACID entraîne des coûts logiciels importants et un niveau de performance moindre à infrastructure matérielle équivalente.  \n",
    "Pour faire face à des volumes importants de données, auxquelles on accède de différents endroits du monde, il faut pouvoir répliquer ces données sur différentes machines physiques, c'est ce que l'on appelle un environnement distribué. Le théorème CAP démontre qu'il n'est pas possible d'assurer des transactions totalement ACID dans un environnement distribué. "
   ]
  },
  {
   "cell_type": "markdown",
   "metadata": {},
   "source": [
    "Les bases de données NoSQL sont utiles pour les larges ensembles de données distribuées."
   ]
  },
  {
   "cell_type": "markdown",
   "metadata": {},
   "source": [
    "NoSQL orienté-agrégats, Une des caractéristiques retrouvées dans de nombreux SGBD NoSQL est l'utilisation d’« agrégats de données » constitués d'un ensemble de données souvent « consultées/modifiées en même temps » et qui peuvent être déployées sur des serveurs indépendants3"
   ]
  },
  {
   "cell_type": "markdown",
   "metadata": {},
   "source": [
    "Les objets créés à l’aide de langage de programmation orientés objets sont généralement stockés sur des bases de données relationnelles. Toutefois, en réalité, les bases de données orientées objets sont plus adaptées pour stocker ce type de contenu.\n",
    "\n",
    "Plutôt que d’être organisée autour d’actions, les bases de données orientées objets sont organisées autour d’objets. De même, au lieu d’être organisées autour d’une logique, elles sont organisées autour des données. Par exemple, un enregistrement multimédia au sein d’une BDD relationnelle peut être défini comme un objet de données plutôt que comme une valeur alphanumérique"
   ]
  },
  {
   "cell_type": "markdown",
   "metadata": {},
   "source": [
    "NoSQL orienté-graphes, Les bases de données orientées graphe permettent de stocker les données sous forme de graphe et de faciliter l'écriture des requêtes en supprimant la plupart des jointures"
   ]
  },
  {
   "cell_type": "markdown",
   "metadata": {},
   "source": [
    "Une base de données orientée graphe, ou graphe, est un type de database NoSQL utilisant la théorie des graphes pour stocker, cartographier et effectuer des requêtes sur les relations entre les données. Les bases de données graphe sont constituées de noeuds et de bords.  \n",
    "Chaque noeud représente une entité, et chaque bord représente une connexion entre les noeuds. Les bases de données graphes gagnent en popularité dans le domaine des analyses d’interconnexions. Par exemple, les entreprises peuvent utiliser une BDD graphe pour miner des données sur ses clients à partir des réseaux sociaux."
   ]
  },
  {
   "cell_type": "markdown",
   "metadata": {},
   "source": [
    "Les systèmes NoSQL sans-schéma peuvent ignorer cette étape et stocker des données hétérogènes au fur et à mesure de leur alimentation. Cette utilisation permet une grande flexibilité et des capacités d'adaptation au niveau de la base de données. La contrepartie est que les applications qui liront la base de données devront être capables d'intégrer des données plus hétérogènes et de structure plus complexe. NoSQL sans-schéma,"
   ]
  },
  {
   "cell_type": "markdown",
   "metadata": {},
   "source": [
    "### quatre principaux groupes de bases de données NoSQL"
   ]
  },
  {
   "cell_type": "markdown",
   "metadata": {},
   "source": [
    "**Les bases de données NoSQL orientées clé-valeur**\n",
    "\n",
    "Ces bases de données sont idéales pour accéder aux données par le biais d’une clé. La spécificité est que les données peuvent être stockées sans définir de schéma spécifique. Ces bases de données sont très efficaces pour la lecture et l’écriture, et conçues pour s’adapter massivement et proposer un temps de réaction extrêmement rapide.\n",
    "\n",
    "Les éléments sont généralement stockées au sein de structures complexes comme le BLOB. Les références dans cette catégorie de bases de données sont Redis, Riak, Oracle NoSQL et Microsoft Azure Table Storage. Radis est gratuitbase et open source, Riak est entièrement dédiées aux clés-valeur et idéale pour le stockage de document et les fonctionnalités de recherche."
   ]
  },
  {
   "cell_type": "markdown",
   "metadata": {},
   "source": [
    "**Les bases de données NoSQL orientées document**\n",
    "\n",
    "Cette catégorie de bases de données repose sur divers formats (JSON, XML) et offre la capacité de changer de schéma sans avoir à arrêter la database. Les développeurs peuvent télécharger des documents indexés et y accéder par le biais de moteur de stockage de la base de données. La flexibilité de ces bases de données les rend très polyvalentes.\n",
    "\n",
    "Parmi les meilleures bases de données NoSQL orientées document, on peut citer Mongo DB et Couchbase Server. Mongo DB est l’une des bases de données les plus populaires à l’heure actuelle, toutes catégories confondues. Elle permet de prendre en charge aussi bien des données structurées que des données non structurées, et ses performances et sa scalabilité sont excellentes. De nombreuses personnes sont formées pour la maîtriser.  \n",
    "\n",
    "Couchbase Server est une database Open Source licenciée sous Apache. Son avantage principal est sa console d’administration très intuitive permettant d’accéder facilement à de grandes quantités de données. En revanche, elle ne permet pas de garantir l’intégralité des données à 100%.\n",
    "\n",
    "Parmi les meilleures bases de données NoSQL orientées document, on peut aussi citer Mark Logic Server. Son intégrité des données et sa compatibilité XML, JSON et RDF en font une référence. Mark Logic Server est compatible avec les OS Windows, Solaris, Red Hat, Suse, CentOS, Amazon Linux et Mac OS. On peut enfin citer Elastic Sarche, RavendDB, Apache Jena et Pivotal GemFire."
   ]
  },
  {
   "cell_type": "markdown",
   "metadata": {},
   "source": [
    "**Les bases de données NoSQL orientées colonne**\n",
    "\n",
    "Les bases de données NoSQL orientées colonne représentent la valeur des données sous forme de colonne, ce qui permet à l’utilisateur de cartographier les clés et les valeurs et de les regrouper en structures. Ces bases de données sont principalement utilisées dans les environnements où il est nécessaire d’accéder à de nombreuses colonnes elles-mêmes dotées de nombreuses rangées. Elles sont surtout utiles pour le traitement et l’analyse d’événements, la gestion de contenu et l’analyse de données.\n",
    "\n",
    "Parmi les meilleures bases de données NoSQL orientées colonne, on peut citer Apache Cassandra, un moteur crée par Facebook et désormais distribué gratuitement. Cassandra est recommandé pour les bases de données regroupant d’immenses quantités de données."
   ]
  },
  {
   "cell_type": "markdown",
   "metadata": {},
   "source": [
    "Précisons qu’une version entreprise intitulée Datastax Enterprise est également disponible. Cassandra est compatible ASCII, bigint, BLOB, Boolean, counter, decimal, double, float, int, text, timestamp, UUID, VARCHAR et varient. L’autre référence dans cette catégorie est Apache Hbase, conçue pour prendre en charge de multiples accès lecture et écriture en temps réel à d’immenses quantités de données."
   ]
  },
  {
   "cell_type": "markdown",
   "metadata": {},
   "source": [
    "**Les bases de données NoSQL orientées graphe**\n",
    "\n",
    "Les bases de données NoSQL orientées graphe sont focalisées sur les propriétés et les relations qui les unissent. Elles utilisent la théorie des graphes pour connecter les bases de données. Chaque élément est connecté à son élément adjacent. Ces bases de données sont recommandées si vos données sont interrelationnelles, comme sur les réseaux sociaux, dans la détection de fraude ou encore les mises à jour en temps réel.\n",
    "\n",
    "Les références dans cette catégorie sont Neo4J et Infinite graph. Neo4j prend en charge l’intégration des données, offre une grande disponibilité, et le clustered scaling. Son panel d’administration est également très bon. Infinite Graph est une base de données licence-only compatible avec macOS, Linux et Windows."
   ]
  },
  {
   "cell_type": "markdown",
   "metadata": {},
   "source": [
    "## Apache Cassandra"
   ]
  },
  {
   "cell_type": "markdown",
   "metadata": {},
   "source": [
    "Apache Cassandra est un système de base de données distribuée NoSQL hautement scalable et disponible, facilitant le stockage et la gestion de données structurées à haute vélocité sur de multiples serveurs."
   ]
  },
  {
   "cell_type": "markdown",
   "metadata": {},
   "source": [
    "![](./image/l3_dataSchema.png)"
   ]
  },
  {
   "cell_type": "markdown",
   "metadata": {},
   "source": [
    "* efficace pour prendre en charge de larges volumes d’enregistrements répartis sur de multiples serveurs\n",
    "* peut être  » scalée  » facilement pour s’adapter à une augmentation soudaine de la demande. Il suffit pour cela de déployer des clusters Cassandra  » multi-node «\n",
    "* parmi les bases de données NoSQL les plus efficientes à ce jour. \n",
    "* base de données orientée colonne. Elle est hautement consistante, tolérante aux erreurs, et scalable.\n"
   ]
  },
  {
   "cell_type": "markdown",
   "metadata": {},
   "source": [
    "avantages: \n",
    "* apable de prendre en charge les données structurées, non structurées ou semi-structurées. Elle est également capable de supporter les changements dynamiques apportés aux structures de données pour s’adapter aux besoins changeants.\n",
    "* on architecture scalable de façon linéaire. Il suffit d’ajouter de noeuds pour l’adapter à une hausse de la demande. En outre, les données peuvent être distribuées de façon homogène sur de multiples centres de données par le biais d’un processus de réplication des données.\n",
    "* est également très fiable, car les éventuelles défaillances de noeuds n’affectent par les performances générales. Cassandra se distingue aussi par son impressionnante vitesse d’écriture de données.\n"
   ]
  },
  {
   "cell_type": "markdown",
   "metadata": {},
   "source": [
    "Cassandra est un choix idéal pour les cas d’usage nécessitant une disponibilité ininterrompue. Cette base de données est également adaptée pour les entreprises travaillant sur des workloads massifs, ou nécessitant l’assurance de pouvoir étendre leurs services de façon flexible à mesure que leurs workloads s’étendent également  \n",
    "En revanche, pour des tâches de Data Warehousing ou de stockage analytique, plusieurs alternatives se révèlent moins gourmandes en termes de ressources. De même, Cassandra n’est pas la meilleure solution pour analyses en temps réel."
   ]
  },
  {
   "cell_type": "markdown",
   "metadata": {},
   "source": [
    "### When Not to use sql"
   ]
  },
  {
   "cell_type": "markdown",
   "metadata": {},
   "source": [
    "* Besoin d'une grande disponibilité des données : Indique que le système est toujours opérationnel et qu'il n'y a pas de temps d'arrêt\n",
    "* Disposer d'une grande quantité de données\n",
    "* Besoin d'une évolutivité linéaire : Nécessité d'ajouter davantage de nœuds au système pour que les performances augmentent de manière linéaire\n",
    "* Faible latence : Délai plus court avant le transfert des données une fois que l'instruction de transfert a été reçue.\n",
    "* Nécessite des lectures et des écritures rapides\n"
   ]
  },
  {
   "cell_type": "markdown",
   "metadata": {},
   "source": [
    "nodes : server or VM or just a system, single entity of that sysytem whatever that a Docker container, "
   ]
  },
  {
   "cell_type": "markdown",
   "metadata": {},
   "source": [
    "### Distribued databases"
   ]
  },
  {
   "cell_type": "markdown",
   "metadata": {},
   "source": [
    "in a distributed database in order to have hight availability, uou will need copies of you data"
   ]
  },
  {
   "cell_type": "markdown",
   "metadata": {},
   "source": [
    "**Eventual Consistency:**\n",
    "\n",
    "Over time (if no new changes are made) each copy of the data will be the same, but if there are new changes, the data may be different in different locations. The data may be inconsistent for only milliseconds. There are workarounds in place to prevent getting stale data."
   ]
  },
  {
   "cell_type": "markdown",
   "metadata": {},
   "source": [
    "wiki: Eventual consistency is a consistency model used in distributed computing to achieve **high availability** that informally guarantees that, if no **new updates** are made to a given data item, eventually all accesses to that item will **return the last updated value**"
   ]
  },
  {
   "cell_type": "markdown",
   "metadata": {},
   "source": [
    "### How is data written in Cassandra?  \n",
    "* Enregistrement des données dans le journal de bord\n",
    "* Écriture de données sur la tablette mémorielle\n",
    "* Vider les données de la table de mémoire\n",
    "* Stockage des données sur disque dans SSTables"
   ]
  },
  {
   "cell_type": "markdown",
   "metadata": {},
   "source": [
    "### CAP Theorem\n"
   ]
  },
  {
   "cell_type": "markdown",
   "metadata": {},
   "source": [
    "Le théorème CAP ou CDP, aussi connu sous le nom de théorème de Brewer dit qu'il est impossible sur un système informatique de calcul distribué de garantir en même temps (c'est-à-dire de manière synchrone) les trois contraintes suivantes :\n",
    "\n",
    "    * Cohérence (Consistency en anglais) : tous les nœuds du système voient exactement les mêmes données au même moment ;\n",
    "    * Disponibilité (Availability en anglais) : garantie que toutes les requêtes reçoivent une réponse;\n",
    "    * Tolérance au partitionnement (Partition Tolerance en anglais) : aucune panne moins importante qu'une coupure totale du réseau ne doit empêcher le système de répondre correctement (ou encore : en cas de morcellement en sous-réseaux, chacun doit pouvoir fonctionner de manière autonome).\n",
    "\n",
    "Attention : dans cette définition, le terme « partitionnement » ne doit pas être compris au sens que, dans une base, un objet peut être scindé en plusieurs destinations de stockage, mais comme des machines distinctes (appelées généralement nœuds) possédant chacune une partie des données tel que, seul, l’ensemble des nœuds permet de reconstituer l’intégralité des données de la base.\n",
    "\n",
    "D'après ce théorème, un système de calcul/stockage distribué ne peut garantir à un instant T que deux de ces contraintes mais pas les trois3. "
   ]
  },
  {
   "cell_type": "markdown",
   "metadata": {},
   "source": [
    "* Consistency: Every read from the database gets the latest (and correct) piece of data or an error\n",
    "* Availability: Every request is received and a response is given -- without a guarantee that the data is the latest update\n",
    "* Partition Tolerance: The system continues to work regardless of losing network connectivity between nodes\n"
   ]
  },
  {
   "cell_type": "markdown",
   "metadata": {},
   "source": [
    "You can only have Consistency and Partition Tolerance (CP) or Availability and Partition Tolerance (AP). Remember, relational and non-relational databases do different things, and that's why most companies have both types of database systems."
   ]
  },
  {
   "cell_type": "markdown",
   "metadata": {},
   "source": [
    "consistency in the CAP theorem refers to every read from the database getting the latest piece of data or an error. "
   ]
  },
  {
   "cell_type": "markdown",
   "metadata": {},
   "source": [
    "Consistency in the ACID principle refers to the requirement that only transactions that abide by constraints and database rules are written into the database, otherwise the database keeps previous stat"
   ]
  },
  {
   "cell_type": "markdown",
   "metadata": {},
   "source": [
    "According to the CAP theorem, a database can actually only guarantee two out of the three in CAP. So supporting Availability and Partition Tolerance makes sense, since Availability and Partition Tolerance are the biggest requirements."
   ]
  },
  {
   "cell_type": "markdown",
   "metadata": {},
   "source": [
    "![cap Theorem en image](./image/CAPtheorem.png)"
   ]
  },
  {
   "cell_type": "markdown",
   "metadata": {},
   "source": [
    "Cassandra is an AP database (Availability and Partition), valable seulement pdt network failure"
   ]
  },
  {
   "cell_type": "markdown",
   "metadata": {},
   "source": [
    "![triangleCAP](./image/triangleCAP.png)"
   ]
  },
  {
   "cell_type": "markdown",
   "metadata": {},
   "source": [
    "## Denormalization in Apache Cassandra"
   ]
  },
  {
   "cell_type": "markdown",
   "metadata": {},
   "source": [
    "Data Modeling in Apache Cassandra:\n",
    "* La dénormalisation n'est pas seulement une bonne chose, c'est une nécessité\n",
    "* La dénormalisation doit être faite pour les lectures rapides\n",
    "* Apache Cassandra a été optimisé pour les écrits rapides\n",
    "* **TOUJOURS penser Les questions d'abord** know it in advance\n",
    "* Une table par requête est une excellente stratégie\n",
    "* Apache Cassandra n'autorise pas les JOINTS entre les tables"
   ]
  },
  {
   "cell_type": "markdown",
   "metadata": {},
   "source": [
    "CQL : Cassandra Query Language:\n",
    "    * similar sql\n",
    "    * No JOINS, GROUP BY or subqueries"
   ]
  },
  {
   "cell_type": "markdown",
   "metadata": {},
   "source": [
    "popular driver: python, java, C sharp, NodeJs"
   ]
  },
  {
   "cell_type": "markdown",
   "metadata": {},
   "source": [
    "## Organisation de Cassandra\n",
    "\n",
    "* Keyspace(regroupemt de famille de colonnes)\n",
    "    * famille de colonnes 1(regroupement logiques de lignes)\n",
    "        * ligne1 (cle, colonnes)\n",
    "            * colonne1 (nom, valeur, timestamp)\n",
    "            * colonne2 #Column _immutable_\n",
    "                    * _name as key #java bite arrays, tipically represented as strings_\n",
    "                    * _value_, \n",
    "                    * _timestamps_ #long primatives\n",
    "        * ligne2 #row\n",
    "    \n",
    "    *  famille de colonnes 2 \n",
    "        * #container for ordered collection of columns\n",
    "        * #each columns stored in separate file\n",
    " ![](./image/l3_columnFamily.png)  ![](./image/l3_superColumn.png)  "
   ]
  },
  {
   "cell_type": "markdown",
   "metadata": {},
   "source": [
    "---\n",
    "# Code\n",
    "\n",
    "* import cassandra  \n",
    "* from cassandra.cluster import Cluster  \n",
    "* cluster = Cluster(['127.0.0.1'])  \n",
    "* session = cluster.connect()  \n",
    "* session.execute(\"\"\"\n",
    "    CREATE KEYSPACE IF NOT EXISTS udacity \n",
    "    WITH REPLICATION = \n",
    "    { 'class' : 'SimpleStrategy', 'replication_factor' : 1 }\"\"\"  \n",
    "* session.set_keyspace('udacity')  \n"
   ]
  },
  {
   "cell_type": "markdown",
   "metadata": {},
   "source": [
    "We want to ask 3 questions of our data\n",
    "1. Give every album in the music library that was released in a given year\n",
    "select * from music_library WHERE YEAR=1970\n",
    "\n",
    "2. Give every album in the music library that was created by a given artist\n",
    "select * from artist_library WHERE artist_name=\"The Beatles\"\n",
    "\n",
    "3. Give all the information from the music library about a given album\n",
    "select * from album_library WHERE album_name=\"Close To You\"  \n",
    "\n",
    "---\n",
    "The music library table will be partitioned by year that will become the partition key, and artist name will be the clustering column to make each Primary Key unique.\n",
    "The artist library table will be partitioned by artist name that will be the partition key, and year will be the clustering column to make each Primary Key unique. More on Primary keys in the next lesson and demo.\n",
    "The album library table will be partitioned by album name that will be the partition key, and artist will be the clustering colum to make each Primary Key unique."
   ]
  },
  {
   "cell_type": "markdown",
   "metadata": {},
   "source": [
    "## create tables\n",
    "\n",
    "* query = \"CREATE TABLE IF NOT EXISTS music_library \"\n",
    "* query = query + \"(year int, artist_name text, album_name text, PRIMARY KEY (year, artist_name))\"\n",
    "\n",
    "* query = \"CREATE TABLE IF NOT EXISTS artist_library \"\n",
    "* query = query + \"(artist_name text, year int, album_name text, PRIMARY KEY (artist_name,  year))\"\n",
    "\n",
    "* query = \"CREATE TABLE IF NOT EXISTS album_library \"\n",
    "* query = query + \"(artist_name text, album_name text, year int, PRIMARY KEY (album_name, artist_name))\"\n",
    "\n",
    "## insert data\n",
    "\n",
    "* query = \"INSERT INTO music_library (year, artist_name, album_name)\"\n",
    "* query = query + \" VALUES (%s, %s, %s)\"\n",
    "\n",
    "* query1 = \"INSERT INTO artist_library (artist_name, year, album_name)\"\n",
    "* query1 = query1 + \" VALUES (%s, %s, %s)\"\n",
    "\n",
    "* query2 = \"INSERT INTO album_library (album_name, artist_name, year)\"\n",
    "* query2 = query2 + \" VALUES (%s, %s, %s)\"\n",
    "\n",
    "* session.execute(query, (1970, \"The Beatles\", \"Let it Be\"))\n",
    "* session.execute(query, (1965, \"The Beatles\", \"Rubber Soul\"))\n",
    "\n",
    "* session.execute(query1, (\"The Monkees\", 1966, \"The Monkees\"))\n",
    "* session.execute(query1, (\"The Who\", 1965, \"My Generation\"))\n",
    "\n",
    "* session.execute(query2, (\"Let it Be\", \"The Beatles\", 1970))\n",
    "* session.execute(query2, (\"My Generation\", \"The Who\", 1965))\n",
    "\n",
    "## validate data model\n",
    "\n",
    "* query = \"select * from music_library WHERE YEAR=1970\"\n",
    "* rows = session.execute(query)\n",
    "* for row in rows:\n",
    "    print (row.year, row.artist_name, row.album_name,)\n",
    "\n",
    "* query = \"select * from artist_library WHERE ARTIST_NAME='The Beatles'\"\n",
    "* rows = session.execute(query)\n",
    "* for row in rows:\n",
    "    print (row.artist_name, row.year, row.album_name)\n",
    "    \n",
    "* query = \"select * from album_library WHERE ALBUM_NAME='Close To You'\"\n",
    "* rows = session.execute(query)\n",
    "* for row in rows:\n",
    "    print (row.artist_name, row.year, row.album_name)\n",
    "    \n",
    "## drop table \n",
    "\n",
    "* query = \"drop table music_library\"\n",
    "* rows = session.execute(query)\n",
    "\n",
    "* query = \"drop table album_library\"\n",
    "* rows = session.execute(query)\n",
    "\n",
    "* query = \"drop table artist_library\"\n",
    "* rows = session.execute(query)"
   ]
  },
  {
   "cell_type": "markdown",
   "metadata": {},
   "source": [
    "## Primary Key"
   ]
  },
  {
   "cell_type": "markdown",
   "metadata": {},
   "source": [
    "[DataStax documentation](https://docs.datastax.com/en/cql/3.3/cql/cql_using/useSimplePrimaryKeyConcept.html#useSimplePrimaryKeyConcept)"
   ]
  },
  {
   "cell_type": "markdown",
   "metadata": {},
   "source": [
    "* must be unique\n",
    "* made up of just the PARTITION KEY or may also include additional CLUSTERING COLUMNS \n",
    "* A Simple PRIMARY KEY is just one column that is also the PARTITION KEY\n",
    "* A Composite PRIMARY KEY is made up of more than one column and will assist in creating a unique value and in your retrieval queries\n",
    "* The PARTITION KEY will determine the distribution of data across the system"
   ]
  },
  {
   "cell_type": "markdown",
   "metadata": {},
   "source": [
    "![primary key simple](./image/l3_primaryKeySimple.png)"
   ]
  },
  {
   "cell_type": "markdown",
   "metadata": {},
   "source": [
    "### Primary key Simple\n",
    "\n",
    "* Must be unique\n",
    "* Hashing of this value results in placement on a particular node in the system\n",
    "* data distribued by this partioned key"
   ]
  },
  {
   "cell_type": "markdown",
   "metadata": {},
   "source": [
    "![Primary key Composite](./image/l3_primaryKeyComposite.png)"
   ]
  },
  {
   "cell_type": "markdown",
   "metadata": {},
   "source": [
    "## Clustering Columns"
   ]
  },
  {
   "cell_type": "markdown",
   "metadata": {},
   "source": [
    "* [clustering](https://docs.datastax.com/en/archived/cql/3.3/cql/cql_using/useCompoundPrimaryKeyConcept.html)\n",
    "* [resume PK CK Clustering K](https://stackoverflow.com/questions/24949676/difference-between-partition-key-composite-key-and-clustering-key-in-cassandra)\n",
    "* [PK](http://intellidzine.blogspot.com/2014/01/cassandra-data-modelling-primary-keys.html)\n",
    "* []()\n",
    "    "
   ]
  },
  {
   "cell_type": "markdown",
   "metadata": {},
   "source": [
    "![Clustering columns](./image/l3_clusteringColumns.png)"
   ]
  },
  {
   "cell_type": "markdown",
   "metadata": {},
   "source": [
    "Primary key is made up of \n",
    "* just the partition key\n",
    "* or addition of clustering columns"
   ]
  },
  {
   "cell_type": "markdown",
   "metadata": {},
   "source": [
    "* The clustering column will sort the data in sorted ascending order, e.g., alphabetical order\n",
    "* More than one clustering column can be added (or none!)\n",
    "* From there the clustering columns will sort in order of how they were added to the primary key"
   ]
  },
  {
   "cell_type": "markdown",
   "metadata": {},
   "source": [
    "You can use as many clustering columns as you would like. You cannot use the clustering columns out of order in the SELECT statement. You may choose to omit using a clustering column in your SELECT statement. That's OK. Just remember to use them in order when you are using the SELECT statement."
   ]
  },
  {
   "cell_type": "markdown",
   "metadata": {},
   "source": [
    "* The Partition Key is responsible for data distribution across your nodes.\n",
    "* The Clustering Key is responsible for data sorting within the partition.\n",
    "*  The Primary Key is equivalent to the Partition Key in a single-field-key table (i.e. Simple).\n",
    "*  The Composite/Compound Key is just any multiple-column key"
   ]
  },
  {
   "cell_type": "markdown",
   "metadata": {},
   "source": [
    "* A primary key uniquely identifies a row.\n",
    "* A composite key is a key formed from multiple columns.\n",
    "* A partition key is the primary lookup to find a set of rows, i.e. a partition.\n",
    "* A clustering key is the part of the primary key that isn't the partition key (and defines the ordering within a partition).\n"
   ]
  },
  {
   "cell_type": "markdown",
   "metadata": {},
   "source": [
    "Note importante : la clé de partition est le minimum nécessaire pour effectuer une requête à l'aide d'une clause \"where\".   \n",
    "PRIMARY KEY((col1, col2), col10, col4))   \n",
    "You can perform query only by passing at least both col1 and col2, these are the 2 columns that define the partition key  \n",
    "La règle \"générale\" pour effectuer une requête est de passer au moins toutes les colonnes de clés de partition, puis d'ajouter éventuellement chaque clé de regroupement dans l'ordre où elles sont définies.  \n",
    "So the valid queries are (excluding secondary indexes)  \n",
    "    col1 and col2  \n",
    "    col1 and col2 and col10   \n",
    "    col1 and col2 and col10 and col 4   \n",
    "Invalid:  \n",
    "    col1 and col2 and col4  \n",
    "    anything that does not contain both col1 and col2  \n"
   ]
  },
  {
   "cell_type": "markdown",
   "metadata": {},
   "source": [
    "## WHERE Clause"
   ]
  },
  {
   "cell_type": "markdown",
   "metadata": {},
   "source": [
    "![WHERE clause](./image/l3_whereClause.png)"
   ]
  },
  {
   "cell_type": "markdown",
   "metadata": {},
   "source": [
    "* Data Modeling in Apache Cassandra is query focused, and that focus needs to be on the WHERE clause\n",
    "* Failure to include a WHERE clause will result in an error\n",
    "AVOID using \"ALLOW FILTERING\": Here is a reference in [DataStax](https://www.datastax.com/dev/blog/allow-filtering-explained-2) that explains ALLOW FILTERING and why you should not use it."
   ]
  },
  {
   "cell_type": "markdown",
   "metadata": {},
   "source": [
    "The WHERE statement is allowing us to do the fast reads. With Apache Cassandra, we are talking about big data -- think terabytes of data -- so we are making it fast for read purposes. Data is spread across all the nodes. By using the WHERE statement, we know which node to go to, from which node to get that data and serve it back. For example, imagine we have 10 years of data on 10 nodes or servers. So 1 year's data is on a separate node. By using the WHERE year = 1 statement we know which node to visit fast to pull the data from."
   ]
  },
  {
   "cell_type": "markdown",
   "metadata": {},
   "source": [
    "![where clause](./image/l3_WhereClause2.png)"
   ]
  },
  {
   "cell_type": "markdown",
   "metadata": {},
   "source": [
    "![select](./image/l3_select.png\n",
    "        )"
   ]
  },
  {
   "cell_type": "code",
   "execution_count": null,
   "metadata": {},
   "outputs": [],
   "source": []
  }
 ],
 "metadata": {
  "kernelspec": {
   "display_name": "Python 2",
   "language": "python",
   "name": "python2"
  },
  "language_info": {
   "codemirror_mode": {
    "name": "ipython",
    "version": 2
   },
   "file_extension": ".py",
   "mimetype": "text/x-python",
   "name": "python",
   "nbconvert_exporter": "python",
   "pygments_lexer": "ipython2",
   "version": "2.7.16"
  }
 },
 "nbformat": 4,
 "nbformat_minor": 2
}
