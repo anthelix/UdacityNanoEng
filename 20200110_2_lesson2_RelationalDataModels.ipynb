{
 "cells": [
  {
   "cell_type": "markdown",
   "metadata": {},
   "source": [
    "##### Some vocabulary\n",
    "* must be done in read heavy workloads to increaase performance == doit être fait dans les charges de travail lourdes en lecture pour augmenter la performance  \n",
    "* data integrity == protection des données  \n",
    "* likehood == l'assurance\n",
    "* more likely = plus probable\n",
    "* to be out of date = perime\n",
    "* to free = liberer\n",
    "* refactoring = remaniement\n",
    "* to reach = atteindre"
   ]
  },
  {
   "cell_type": "markdown",
   "metadata": {},
   "source": [
    "## Postegre"
   ]
  },
  {
   "cell_type": "markdown",
   "metadata": {},
   "source": [
    "**Rule 1**  by Codd's 12 : The information rule  \n",
    "_All information in a relational data base is represented explicitly at the logical level and in exactly one way – by values in table_"
   ]
  },
  {
   "cell_type": "markdown",
   "metadata": {},
   "source": [
    "### The Importance of a Relationnal Databases"
   ]
  },
  {
   "cell_type": "markdown",
   "metadata": {},
   "source": [
    "* Standardization of data model\n",
    "* Flexibility in adding and altering tables\n",
    "* Data Integrity\n",
    "* Structured Query Language (SQL)\n",
    "* Simplicity\n",
    "* Intuitive Organization"
   ]
  },
  {
   "cell_type": "markdown",
   "metadata": {},
   "source": [
    "### OLAP vs OLTP"
   ]
  },
  {
   "cell_type": "markdown",
   "metadata": {},
   "source": [
    "Online Amalytical Processing (OLAP)  \n",
    "* allow for complex analytical and ad hoc query, including agregations.\n",
    "* optimized for read\n",
    "* use it since it will require aggregation\n",
    "* best with Dimensional modeling"
   ]
  },
  {
   "cell_type": "markdown",
   "metadata": {},
   "source": [
    "Online Transactionnal Processing(OLTP)  \n",
    "* allow for less complex queries in large volume.\n",
    "* queries are read, update, delete\n",
    "* use it for no aggragation or a litlle\n",
    "* best with decision making while ER modeling "
   ]
  },
  {
   "cell_type": "markdown",
   "metadata": {},
   "source": [
    "[understand the difference StackOverflow](https://stackoverflow.com/questions/21900185/what-are-oltp-and-olap-what-is-the-difference-between-them)"
   ]
  },
  {
   "cell_type": "markdown",
   "metadata": {},
   "source": [
    "### Structuring The Database"
   ]
  },
  {
   "cell_type": "markdown",
   "metadata": {},
   "source": [
    "1. Normalization  \n",
    "* to reduce data redundancy (doublon)\n",
    "* increase data integrity\n",
    "* answer from the database issthe correct answer\n",
    "* increasing the likehood that your data is correct in all locations\n",
    "2. Denormalization  \n",
    "* must be done in read heavy workloads to increaase performanc\n",
    "* some copies of data to increase performance\n",
    "* focused on the queries that will run"
   ]
  },
  {
   "cell_type": "markdown",
   "metadata": {},
   "source": [
    "**Normalization**"
   ]
  },
  {
   "cell_type": "markdown",
   "metadata": {},
   "source": [
    "_The process of structuring a relational database in accordance with a series of **normal forms** in order **to reduce data redundancy and increase sata integrity**_\n",
    "* no copieaof data\n",
    "* update data in one place, source of the truth\n",
    "* si trop de copie de donees, donnees perimees ou pas de update ou donees incorrect"
   ]
  },
  {
   "cell_type": "markdown",
   "metadata": {},
   "source": [
    "![Liens vers Database normalization Wiki](https://en.wikipedia.org/wiki/Database_normalization)"
   ]
  },
  {
   "cell_type": "markdown",
   "metadata": {},
   "source": [
    "Objectives of Normal Form:  \n",
    "  * To free the database from unwanted insertions, updates, & deletion dependencies\n",
    "  * To reduce the need for refactoring the database as new types of data are introduced\n",
    "  * To make the relational model more informative to users\n",
    "  * To make the database neutral to the query statistics\n"
   ]
  },
  {
   "cell_type": "markdown",
   "metadata": {},
   "source": [
    "Process of normalization:  \n",
    "   * How to reach First Normal Form (1NF):\n",
    "       * Atomic values: each cell contains unique and single values\n",
    "       * Be able to add data without altering tables\n",
    "       * Separate different relations into different tables\n",
    "       * Keep relationships between tables together with foreign keys\n",
    "   * Second Normal Form (2NF):\n",
    "       * Have reached 1NF\n",
    "       * All columns in the table must rely on the Primary Key, no composite key(associationd de @ col pour faire une key)\n",
    "   * Third Normal Form (3NF):\n",
    "       * Must be in 2nd Normal Form\n",
    "       * No transitive dependencies ( a revoir)\n",
    "       * Remember, transitive dependencies you are trying to maintain is that to get from A-> C, you want to avoid going through B.  \n",
    "\n",
    "When to use 3NF: When you want to update data, we want to be able to do in just 1 place. We want to avoid updating the table in the Customers Detail table (in the example in the lecture slide). \n"
   ]
  },
  {
   "cell_type": "markdown",
   "metadata": {},
   "source": [
    "## Denormalization"
   ]
  },
  {
   "cell_type": "markdown",
   "metadata": {},
   "source": [
    "JOINS on db fleible but slow, bad for heavy reads on database  \n",
    "Solution:  denormalization  \n",
    "need more space, because more copie of the data  \n",
    "it's about performance  \n",
    "keep our data consistent  \n",
    "reads be fster (select)\n",
    "writes be slower (inset, supdate, delete)\n"
   ]
  },
  {
   "cell_type": "markdown",
   "metadata": {},
   "source": [
    "avoir des donnees normalise puis faire la denormalisation, toujours!!"
   ]
  },
  {
   "cell_type": "markdown",
   "metadata": {},
   "source": [
    "## Fact and Dimensions Tables"
   ]
  },
  {
   "cell_type": "markdown",
   "metadata": {},
   "source": [
    "Important for organisation.  Find one or more fact tables for each dimension table, joined together with a foreign key  \n",
    "help to inderstand star and snowflake schemas  \n",
    "Fact tables == measurements, metrics or facts of a business pocess  \n",
    "Fact tables == ints or numbers\n",
    "Dimension tables == categorizes facts and measures\n",
    "Dimension tables == people products place time, customer information, informations about data\n",
    "\n",
    "\n"
   ]
  },
  {
   "cell_type": "markdown",
   "metadata": {},
   "source": [
    "![FactsAndDimensionTables](./image/FactsAndDimensionTables.png)"
   ]
  },
  {
   "cell_type": "markdown",
   "metadata": {},
   "source": [
    "[Lien Wiki vers ERS](https://en.wikipedia.org/wiki/Entity%E2%80%93relationship_model)  \n",
    "[Lien Wiki Dimension data warehouse](https://en.wikipedia.org/wiki/Dimension_(data_warehouse))  \n",
    "[Fact table](https://en.wikipedia.org/wiki/Fact_table)"
   ]
  },
  {
   "cell_type": "markdown",
   "metadata": {},
   "source": [
    "### Star Schema"
   ]
  },
  {
   "cell_type": "markdown",
   "metadata": {},
   "source": [
    "[Lien wiki vers Star schema] (https://en.wikipedia.org/wiki/Star_schema)"
   ]
  },
  {
   "cell_type": "markdown",
   "metadata": {},
   "source": [
    "one of more fact tables referencing any number of dimension tables  \n",
    "Dimension table surrounds the fact table representing the star's point's.  \n",
    "Benefits :\n",
    "* Denornalized\n",
    "* Simplifies queries\n",
    "* Fast aggregations +++  \n",
    "Drawbacks:\n",
    "* Issues that come with denormalization around data integrity, decrease flexibility  \n",
    "* Data integrity\n",
    "* Decrease query flexilibilty, many relationship"
   ]
  },
  {
   "cell_type": "markdown",
   "metadata": {},
   "source": [
    "### Snowflake Schema"
   ]
  },
  {
   "cell_type": "markdown",
   "metadata": {},
   "source": [
    "Logical arrangement represented by centralized fact tables which are connected to mulptiple dimensions  \n",
    "[Lien Wiki Snowflake schema](https://en.wikipedia.org/wiki/Snowflake_schema)"
   ]
  },
  {
   "cell_type": "markdown",
   "metadata": {},
   "source": [
    "[Medium Deep Diving in the world of data warehousing](https://medium.com/@BluePi_In/deep-diving-in-the-world-of-data-warehousing-78c0d52f49a)  \n",
    "_Dimensional modeling is primarily used to support OLAP and decision making while ER modeling is best fit for OLTP where results consist of detailed information of entities rather an aggregated view.  \n"
   ]
  },
  {
   "cell_type": "markdown",
   "metadata": {},
   "source": [
    "![snowflake](./image/snowflake.png)"
   ]
  },
  {
   "cell_type": "markdown",
   "metadata": {},
   "source": [
    "## Data Definition and Constraints in PostegreSQL"
   ]
  },
  {
   "cell_type": "markdown",
   "metadata": {},
   "source": [
    "### CREATE Statement"
   ]
  },
  {
   "cell_type": "markdown",
   "metadata": {},
   "source": [
    "[documentation PostgrSql](https://www.postgresql.org/docs/9.4/ddl-constraints.html)"
   ]
  },
  {
   "cell_type": "markdown",
   "metadata": {},
   "source": [
    "**NOT NULL** : column cannot contain null value   \n",
    "`CREATE TABLE IF NOT EXISTS customer_transactions (\n",
    "    customer_id int NOT NULL, \n",
    "    store_id int, \n",
    "    spent numeric\n",
    ");`"
   ]
  },
  {
   "cell_type": "markdown",
   "metadata": {},
   "source": [
    "In more than column for **Composite Key**  \n",
    "`CREATE TABLE IF NOT EXISTS customer_transactions (\n",
    "    customer_id int NOT NULL, \n",
    "    store_id int NOT NULL, \n",
    "    spent numeric\n",
    ");`\n"
   ]
  },
  {
   "cell_type": "markdown",
   "metadata": {},
   "source": [
    "**UNIQUE** : specify that the data across all the rows in one column are unique within the table  \n",
    "`CREATE TABLE IF NOT EXISTS customer_transactions (\n",
    "    customer_id int NOT NULL UNIQUE, \n",
    "    store_id int NOT NULL UNIQUE, \n",
    "    spent numeric \n",
    ");`  \n",
    "ou  \n",
    "`CREATE TABLE IF NOT EXISTS customer_transactions (\n",
    "    customer_id int NOT NULL, \n",
    "    store_id int NOT NULL, \n",
    "    spent numeric,\n",
    "    UNIQUE (customer_id, store_id, spent)\n",
    ");`"
   ]
  },
  {
   "cell_type": "markdown",
   "metadata": {},
   "source": [
    "**PRIMARY KEY** :  is defined on a single column,  The values in this column uniquely identify the rows in the table.  \n",
    "If a group of columns are defined as a primary key, they are called a **composite key**.  \n",
    " By default, the PRIMARY KEY constraint has the unique and not null constraint built into it.  \n",
    "`CREATE TABLE IF NOT EXISTS store (\n",
    "    store_id int PRIMARY KEY, \n",
    "    store_location_city text,\n",
    "    store_location_state text\n",
    ");` \n",
    "composite key  \n",
    "`CREATE TABLE IF NOT EXISTS customer_transactions (\n",
    "    customer_id int, \n",
    "    store_id int, \n",
    "    spent numeric,\n",
    "    PRIMARY KEY (customer_id, store_id)\n",
    ");`\n"
   ]
  },
  {
   "cell_type": "markdown",
   "metadata": {},
   "source": [
    "**Upsert** :  the idea of inserting a new row in an existing table, or updating the row if it already exists in the table  \n",
    "The way this is handled in PostgreSQL is by using the INSERT statement in combination with the ON CONFLICT clause.  "
   ]
  },
  {
   "cell_type": "markdown",
   "metadata": {},
   "source": [
    "**INSERT** : adds in new rows within the table. \n",
    "`CREATE TABLE IF NOT EXISTS customer_address (\n",
    "    customer_id int PRIMARY KEY, \n",
    "    customer_street varchar NOT NULL,\n",
    "    customer_city text NOT NULL,\n",
    "    customer_state text NOT NULL\n",
    ");`  \n",
    "  \n",
    "`INSERT into customer_address (\n",
    "VALUES\n",
    "    (432, '758 Main Street', 'Chicago', 'IL'\n",
    ");`  \n",
    "  \n",
    "`INSERT INTO customer_address (customer_id, customer_street, customer_city, customer_state)\n",
    "VALUES\n",
    " (\n",
    " 432, '923 Knox Street', 'Albany', 'NY'\n",
    " ) \n",
    "ON CONFLICT (customer_id) \n",
    "DO NOTHING;`  \n",
    "  \n",
    "`INSERT INTO customer_address (customer_id, customer_street)\n",
    "VALUES\n",
    "    (\n",
    "    432, '923 Knox Street, Suite 1' \n",
    ") \n",
    "ON CONFLICT (customer_id) \n",
    "DO UPDATE\n",
    "    SET customer_street  = EXCLUDED.customer_street;\n",
    "`"
   ]
  },
  {
   "cell_type": "markdown",
   "metadata": {},
   "source": [
    "[PostgreSQL tuto](http://www.postgresqltutorial.com/postgresql-upsert/)  \n",
    "[PostgreSQL doc](https://www.postgresql.org/docs/9.5/sql-insert.html)"
   ]
  },
  {
   "cell_type": "code",
   "execution_count": null,
   "metadata": {},
   "outputs": [],
   "source": []
  }
 ],
 "metadata": {
  "kernelspec": {
   "display_name": "Python 2",
   "language": "python",
   "name": "python2"
  },
  "language_info": {
   "codemirror_mode": {
    "name": "ipython",
    "version": 2
   },
   "file_extension": ".py",
   "mimetype": "text/x-python",
   "name": "python",
   "nbconvert_exporter": "python",
   "pygments_lexer": "ipython2",
   "version": "2.7.16"
  }
 },
 "nbformat": 4,
 "nbformat_minor": 2
}
