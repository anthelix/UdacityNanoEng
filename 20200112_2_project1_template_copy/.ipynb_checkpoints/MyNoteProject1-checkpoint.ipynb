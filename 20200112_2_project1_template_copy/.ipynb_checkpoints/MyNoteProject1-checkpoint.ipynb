{
 "cells": [
  {
   "cell_type": "markdown",
   "metadata": {},
   "source": [
    "## Explore the data"
   ]
  },
  {
   "cell_type": "code",
   "execution_count": 56,
   "metadata": {},
   "outputs": [],
   "source": [
    "import pandas as pd\n",
    "import json\n",
    "import os\n",
    "import glob"
   ]
  },
  {
   "cell_type": "markdown",
   "metadata": {},
   "source": [
    "## Exploration SONG_DATA"
   ]
  },
  {
   "cell_type": "code",
   "execution_count": 26,
   "metadata": {},
   "outputs": [
    {
     "data": {
      "text/html": [
       "<div>\n",
       "<style scoped>\n",
       "    .dataframe tbody tr th:only-of-type {\n",
       "        vertical-align: middle;\n",
       "    }\n",
       "\n",
       "    .dataframe tbody tr th {\n",
       "        vertical-align: top;\n",
       "    }\n",
       "\n",
       "    .dataframe thead th {\n",
       "        text-align: right;\n",
       "    }\n",
       "</style>\n",
       "<table border=\"1\" class=\"dataframe\">\n",
       "  <thead>\n",
       "    <tr style=\"text-align: right;\">\n",
       "      <th></th>\n",
       "      <th>num_songs</th>\n",
       "      <th>artist_id</th>\n",
       "      <th>artist_latitude</th>\n",
       "      <th>artist_longitude</th>\n",
       "      <th>artist_location</th>\n",
       "      <th>artist_name</th>\n",
       "      <th>song_id</th>\n",
       "      <th>title</th>\n",
       "      <th>duration</th>\n",
       "      <th>year</th>\n",
       "    </tr>\n",
       "  </thead>\n",
       "  <tbody>\n",
       "    <tr>\n",
       "      <td>61</td>\n",
       "      <td>1</td>\n",
       "      <td>ARD7TVE1187B99BFB1</td>\n",
       "      <td>NaN</td>\n",
       "      <td>NaN</td>\n",
       "      <td>California - LA</td>\n",
       "      <td>Casual</td>\n",
       "      <td>SOMZWCG12A8C13C480</td>\n",
       "      <td>I Didn't Mean To</td>\n",
       "      <td>218.93179</td>\n",
       "      <td>0</td>\n",
       "    </tr>\n",
       "    <tr>\n",
       "      <td>62</td>\n",
       "      <td>1</td>\n",
       "      <td>ARGSJW91187B9B1D6B</td>\n",
       "      <td>35.21962</td>\n",
       "      <td>-80.01955</td>\n",
       "      <td>North Carolina</td>\n",
       "      <td>JennyAnyKind</td>\n",
       "      <td>SOQHXMF12AB0182363</td>\n",
       "      <td>Young Boy Blues</td>\n",
       "      <td>218.77506</td>\n",
       "      <td>0</td>\n",
       "    </tr>\n",
       "    <tr>\n",
       "      <td>63</td>\n",
       "      <td>1</td>\n",
       "      <td>AR8ZCNI1187B9A069B</td>\n",
       "      <td>NaN</td>\n",
       "      <td>NaN</td>\n",
       "      <td></td>\n",
       "      <td>Planet P Project</td>\n",
       "      <td>SOIAZJW12AB01853F1</td>\n",
       "      <td>Pink World</td>\n",
       "      <td>269.81832</td>\n",
       "      <td>1984</td>\n",
       "    </tr>\n",
       "    <tr>\n",
       "      <td>64</td>\n",
       "      <td>1</td>\n",
       "      <td>AR7G5I41187FB4CE6C</td>\n",
       "      <td>NaN</td>\n",
       "      <td>NaN</td>\n",
       "      <td>London, England</td>\n",
       "      <td>Adam Ant</td>\n",
       "      <td>SONHOTT12A8C13493C</td>\n",
       "      <td>Something Girls</td>\n",
       "      <td>233.40363</td>\n",
       "      <td>1982</td>\n",
       "    </tr>\n",
       "    <tr>\n",
       "      <td>65</td>\n",
       "      <td>1</td>\n",
       "      <td>ARNTLGG11E2835DDB9</td>\n",
       "      <td>NaN</td>\n",
       "      <td>NaN</td>\n",
       "      <td></td>\n",
       "      <td>Clp</td>\n",
       "      <td>SOUDSGM12AC9618304</td>\n",
       "      <td>Insatiable (Instrumental Version)</td>\n",
       "      <td>266.39628</td>\n",
       "      <td>0</td>\n",
       "    </tr>\n",
       "    <tr>\n",
       "      <td>66</td>\n",
       "      <td>1</td>\n",
       "      <td>ARKRRTF1187B9984DA</td>\n",
       "      <td>NaN</td>\n",
       "      <td>NaN</td>\n",
       "      <td></td>\n",
       "      <td>Sonora Santanera</td>\n",
       "      <td>SOXVLOJ12AB0189215</td>\n",
       "      <td>Amor De Cabaret</td>\n",
       "      <td>177.47546</td>\n",
       "      <td>0</td>\n",
       "    </tr>\n",
       "    <tr>\n",
       "      <td>67</td>\n",
       "      <td>1</td>\n",
       "      <td>AR10USD1187B99F3F1</td>\n",
       "      <td>NaN</td>\n",
       "      <td>NaN</td>\n",
       "      <td>Burlington, Ontario, Canada</td>\n",
       "      <td>Tweeterfriendly Music</td>\n",
       "      <td>SOHKNRJ12A6701D1F8</td>\n",
       "      <td>Drop of Rain</td>\n",
       "      <td>189.57016</td>\n",
       "      <td>0</td>\n",
       "    </tr>\n",
       "    <tr>\n",
       "      <td>68</td>\n",
       "      <td>1</td>\n",
       "      <td>ARD0S291187B9B7BF5</td>\n",
       "      <td>NaN</td>\n",
       "      <td>NaN</td>\n",
       "      <td>Ohio</td>\n",
       "      <td>Rated R</td>\n",
       "      <td>SOMJBYD12A6D4F8557</td>\n",
       "      <td>Keepin It Real (Skit)</td>\n",
       "      <td>114.78159</td>\n",
       "      <td>0</td>\n",
       "    </tr>\n",
       "    <tr>\n",
       "      <td>69</td>\n",
       "      <td>1</td>\n",
       "      <td>ARMJAGH1187FB546F3</td>\n",
       "      <td>35.14968</td>\n",
       "      <td>-90.04892</td>\n",
       "      <td>Memphis, TN</td>\n",
       "      <td>The Box Tops</td>\n",
       "      <td>SOCIWDW12A8C13D406</td>\n",
       "      <td>Soul Deep</td>\n",
       "      <td>148.03546</td>\n",
       "      <td>1969</td>\n",
       "    </tr>\n",
       "    <tr>\n",
       "      <td>70</td>\n",
       "      <td>1</td>\n",
       "      <td>ARXR32B1187FB57099</td>\n",
       "      <td>NaN</td>\n",
       "      <td>NaN</td>\n",
       "      <td></td>\n",
       "      <td>Gob</td>\n",
       "      <td>SOFSOCN12A8C143F5D</td>\n",
       "      <td>Face the Ashes</td>\n",
       "      <td>209.60608</td>\n",
       "      <td>2007</td>\n",
       "    </tr>\n",
       "  </tbody>\n",
       "</table>\n",
       "</div>"
      ],
      "text/plain": [
       "    num_songs           artist_id  artist_latitude  artist_longitude  \\\n",
       "61          1  ARD7TVE1187B99BFB1              NaN               NaN   \n",
       "62          1  ARGSJW91187B9B1D6B         35.21962         -80.01955   \n",
       "63          1  AR8ZCNI1187B9A069B              NaN               NaN   \n",
       "64          1  AR7G5I41187FB4CE6C              NaN               NaN   \n",
       "65          1  ARNTLGG11E2835DDB9              NaN               NaN   \n",
       "66          1  ARKRRTF1187B9984DA              NaN               NaN   \n",
       "67          1  AR10USD1187B99F3F1              NaN               NaN   \n",
       "68          1  ARD0S291187B9B7BF5              NaN               NaN   \n",
       "69          1  ARMJAGH1187FB546F3         35.14968         -90.04892   \n",
       "70          1  ARXR32B1187FB57099              NaN               NaN   \n",
       "\n",
       "                artist_location            artist_name             song_id  \\\n",
       "61              California - LA                 Casual  SOMZWCG12A8C13C480   \n",
       "62               North Carolina           JennyAnyKind  SOQHXMF12AB0182363   \n",
       "63                                    Planet P Project  SOIAZJW12AB01853F1   \n",
       "64              London, England               Adam Ant  SONHOTT12A8C13493C   \n",
       "65                                                 Clp  SOUDSGM12AC9618304   \n",
       "66                                    Sonora Santanera  SOXVLOJ12AB0189215   \n",
       "67  Burlington, Ontario, Canada  Tweeterfriendly Music  SOHKNRJ12A6701D1F8   \n",
       "68                         Ohio                Rated R  SOMJBYD12A6D4F8557   \n",
       "69                  Memphis, TN           The Box Tops  SOCIWDW12A8C13D406   \n",
       "70                                                 Gob  SOFSOCN12A8C143F5D   \n",
       "\n",
       "                                title   duration  year  \n",
       "61                   I Didn't Mean To  218.93179     0  \n",
       "62                    Young Boy Blues  218.77506     0  \n",
       "63                         Pink World  269.81832  1984  \n",
       "64                    Something Girls  233.40363  1982  \n",
       "65  Insatiable (Instrumental Version)  266.39628     0  \n",
       "66                    Amor De Cabaret  177.47546     0  \n",
       "67                       Drop of Rain  189.57016     0  \n",
       "68              Keepin It Real (Skit)  114.78159     0  \n",
       "69                          Soul Deep  148.03546  1969  \n",
       "70                     Face the Ashes  209.60608  2007  "
      ]
     },
     "execution_count": 26,
     "metadata": {},
     "output_type": "execute_result"
    }
   ],
   "source": [
    "data_raw =[]\n",
    "folder_path = \"data/song_data\"\n",
    "for path, dirs, files in os.walk(folder_path):\n",
    "    for filename in files:\n",
    "        Mypath_filename = os.path.join(path, filename)\n",
    "        with open(Mypath_filename) as f:\n",
    "            data = json.load(f)\n",
    "        data_raw.append(data)\n",
    "dataSong = pd.DataFrame(data_raw)\n",
    "dataSong.tail(10)"
   ]
  },
  {
   "cell_type": "code",
   "execution_count": null,
   "metadata": {},
   "outputs": [],
   "source": []
  },
  {
   "cell_type": "code",
   "execution_count": 52,
   "metadata": {
    "scrolled": false
   },
   "outputs": [
    {
     "name": "stdout",
     "output_type": "stream",
     "text": [
      "DataSong Shape is (71, 10)\n",
      "DataSong (song_data) nb ligne in linux is ['71']\n",
      "num_songs             int64\n",
      "artist_id            object\n",
      "artist_latitude     float64\n",
      "artist_longitude    float64\n",
      "artist_location      object\n",
      "artist_name          object\n",
      "song_id              object\n",
      "title                object\n",
      "duration            float64\n",
      "year                  int64\n",
      "dtype: object\n",
      "Casual                       2\n",
      "Clp                          2\n",
      "Gwen Stefani                 1\n",
      "Chase & Status               1\n",
      "Richard Souther              1\n",
      "                            ..\n",
      "Soul Mekanik                 1\n",
      "Gloriana                     1\n",
      "The Dillinger Escape Plan    1\n",
      "Lupe Fiasco                  1\n",
      "Mitch Ryder                  1\n",
      "Name: artist_name, Length: 69, dtype: int64\n"
     ]
    }
   ],
   "source": [
    "print(\"DataSong Shape is {}\".format(dataSong.shape))\n",
    "lines = !find ./data/song_data -name \\*.json | wc -l\n",
    "print(\"DataSong (song_data) nb ligne in linux is {}\".format(lines))\n",
    "print(dataSong.dtypes)\n",
    "# compter la repetition des valeurs \n",
    "print(dataSong.artist_name.value_counts())\n"
   ]
  },
  {
   "cell_type": "markdown",
   "metadata": {},
   "source": [
    "## Exploration LOG_DATA"
   ]
  },
  {
   "cell_type": "code",
   "execution_count": 77,
   "metadata": {},
   "outputs": [
    {
     "name": "stdout",
     "output_type": "stream",
     "text": [
      "[]\n"
     ]
    }
   ],
   "source": [
    "data_Log =[]\n",
    "file_list =[]\n",
    "path_to_json = \"data/log_data\"\n",
    "json_files = [file_json for file_json in os.listdir(path_to_json) if file_json.endswith('.json')]\n",
    "for file in json_files:\n",
    "    data = pd.read_json(file, lines=True)\n",
    "    data_Log = data_Log.append(data)"
   ]
  },
  {
   "cell_type": "code",
   "execution_count": 76,
   "metadata": {},
   "outputs": [
    {
     "name": "stdout",
     "output_type": "stream",
     "text": [
      "[]\n"
     ]
    }
   ],
   "source": [
    "data_Log =[]\n",
    "file_list =[]\n",
    "folder_path = \"data/log_data\"\n",
    "for path, dirs, files in os.walk(folder_path):\n",
    "    for filename in files:\n",
    "        Mypath_filename = os.path.join(path, filename)\n",
    "        print(Mypath_filenme)\n",
    "        file_list = file_list.append(Mypath_filename)\n",
    "print(file_list)\n",
    "for file in file_list:\n",
    "    data = pd.read_json(file, lines=True)\n",
    "    data_Log = data_Log.append(data)\n"
   ]
  },
  {
   "cell_type": "code",
   "execution_count": 75,
   "metadata": {},
   "outputs": [
    {
     "data": {
      "text/plain": [
       "Series([], dtype: object)"
      ]
     },
     "execution_count": 75,
     "metadata": {},
     "output_type": "execute_result"
    }
   ],
   "source": [
    "dataLog.dtypes"
   ]
  },
  {
   "cell_type": "markdown",
   "metadata": {},
   "source": [
    "### About artist and song\n",
    "num_songs = integer\n",
    "#artist_id = SONGPLAYS ARTISTS artist_id text\n",
    "#artist_latitude = ARTISTS latitude numeric\t\n",
    "#artist_longitude = ARTISTS longitude numeric\n",
    "#artist_location =  ARTISTS location text\t\n",
    "#artist_name = ARTISTS name text\n",
    "#song_id = SONGPLAYS SONGS song_id text\n",
    "#title = SONGS text\n",
    "#duration = SONGS numeric\n",
    "#year = SONGS integer"
   ]
  },
  {
   "cell_type": "markdown",
   "metadata": {},
   "source": [
    "### About log\n",
    "artist = ARTISTS name text  \n",
    "auth = text  \n",
    "firstName = USERS first_name text  \n",
    "gender = USERS gender text  \n",
    "itemInSession = interger  \n",
    "lastName = USERS last_name text  \t\n",
    "length = numeric  \n",
    "level = text  \n",
    "location =\ttext  \n",
    "method = text  \n",
    "page = text  \n",
    "registration = integer   \t\n",
    "sessionId = integer  \n",
    "song = text  \n",
    "status = integer  \n",
    "ts = integer  \n",
    "userAgent = text  \n",
    "userId = integer  "
   ]
  },
  {
   "cell_type": "markdown",
   "metadata": {},
   "source": []
  },
  {
   "cell_type": "code",
   "execution_count": null,
   "metadata": {},
   "outputs": [],
   "source": []
  }
 ],
 "metadata": {
  "kernelspec": {
   "display_name": "Python 3",
   "language": "python",
   "name": "python3"
  },
  "language_info": {
   "codemirror_mode": {
    "name": "ipython",
    "version": 3
   },
   "file_extension": ".py",
   "mimetype": "text/x-python",
   "name": "python",
   "nbconvert_exporter": "python",
   "pygments_lexer": "ipython3",
   "version": "3.6.9"
  }
 },
 "nbformat": 4,
 "nbformat_minor": 2
}
