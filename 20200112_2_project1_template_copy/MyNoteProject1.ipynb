{
 "cells": [
  {
   "cell_type": "markdown",
   "metadata": {},
   "source": [
    "## Explore the data"
   ]
  },
  {
   "cell_type": "code",
   "execution_count": 2,
   "metadata": {},
   "outputs": [],
   "source": [
    "import pandas as pd\n",
    "import json\n",
    "import os\n",
    "#import os.path"
   ]
  },
  {
   "cell_type": "markdown",
   "metadata": {},
   "source": [
    "## Exploration SONG_DATA"
   ]
  },
  {
   "cell_type": "code",
   "execution_count": 3,
   "metadata": {},
   "outputs": [
    {
     "data": {
      "text/html": [
       "<div>\n",
       "<style scoped>\n",
       "    .dataframe tbody tr th:only-of-type {\n",
       "        vertical-align: middle;\n",
       "    }\n",
       "\n",
       "    .dataframe tbody tr th {\n",
       "        vertical-align: top;\n",
       "    }\n",
       "\n",
       "    .dataframe thead th {\n",
       "        text-align: right;\n",
       "    }\n",
       "</style>\n",
       "<table border=\"1\" class=\"dataframe\">\n",
       "  <thead>\n",
       "    <tr style=\"text-align: right;\">\n",
       "      <th></th>\n",
       "      <th>num_songs</th>\n",
       "      <th>artist_id</th>\n",
       "      <th>artist_latitude</th>\n",
       "      <th>artist_longitude</th>\n",
       "      <th>artist_location</th>\n",
       "      <th>artist_name</th>\n",
       "      <th>song_id</th>\n",
       "      <th>title</th>\n",
       "      <th>duration</th>\n",
       "      <th>year</th>\n",
       "    </tr>\n",
       "  </thead>\n",
       "  <tbody>\n",
       "    <tr>\n",
       "      <td>69</td>\n",
       "      <td>1</td>\n",
       "      <td>ARMJAGH1187FB546F3</td>\n",
       "      <td>35.14968</td>\n",
       "      <td>-90.04892</td>\n",
       "      <td>Memphis, TN</td>\n",
       "      <td>The Box Tops</td>\n",
       "      <td>SOCIWDW12A8C13D406</td>\n",
       "      <td>Soul Deep</td>\n",
       "      <td>148.03546</td>\n",
       "      <td>1969</td>\n",
       "    </tr>\n",
       "    <tr>\n",
       "      <td>70</td>\n",
       "      <td>1</td>\n",
       "      <td>ARXR32B1187FB57099</td>\n",
       "      <td>NaN</td>\n",
       "      <td>NaN</td>\n",
       "      <td></td>\n",
       "      <td>Gob</td>\n",
       "      <td>SOFSOCN12A8C143F5D</td>\n",
       "      <td>Face the Ashes</td>\n",
       "      <td>209.60608</td>\n",
       "      <td>2007</td>\n",
       "    </tr>\n",
       "  </tbody>\n",
       "</table>\n",
       "</div>"
      ],
      "text/plain": [
       "    num_songs           artist_id  artist_latitude  artist_longitude  \\\n",
       "69          1  ARMJAGH1187FB546F3         35.14968         -90.04892   \n",
       "70          1  ARXR32B1187FB57099              NaN               NaN   \n",
       "\n",
       "   artist_location   artist_name             song_id           title  \\\n",
       "69     Memphis, TN  The Box Tops  SOCIWDW12A8C13D406       Soul Deep   \n",
       "70                           Gob  SOFSOCN12A8C143F5D  Face the Ashes   \n",
       "\n",
       "     duration  year  \n",
       "69  148.03546  1969  \n",
       "70  209.60608  2007  "
      ]
     },
     "execution_count": 3,
     "metadata": {},
     "output_type": "execute_result"
    }
   ],
   "source": [
    "data_raw =[]\n",
    "folder_path = \"data/song_data\"\n",
    "for path, dirs, files in os.walk(folder_path):\n",
    "    for filename in files:\n",
    "        Mypath_filename = os.path.join(path, filename)\n",
    "        with open(Mypath_filename) as f:\n",
    "            data = json.load(f)\n",
    "        data_raw.append(data)\n",
    "dataSong = pd.DataFrame(data_raw)\n",
    "dataSong.tail(2)"
   ]
  },
  {
   "cell_type": "code",
   "execution_count": 4,
   "metadata": {
    "scrolled": false
   },
   "outputs": [
    {
     "name": "stdout",
     "output_type": "stream",
     "text": [
      "DataSong Shape is (71, 10)\n",
      "DataSong (song_data) nb ligne in linux is ['71']\n",
      "num_songs             int64\n",
      "artist_id            object\n",
      "artist_latitude     float64\n",
      "artist_longitude    float64\n",
      "artist_location      object\n",
      "artist_name          object\n",
      "song_id              object\n",
      "title                object\n",
      "duration            float64\n",
      "year                  int64\n",
      "dtype: object\n",
      "1    71\n",
      "Name: num_songs, dtype: int64\n"
     ]
    }
   ],
   "source": [
    "print(\"DataSong Shape is {}\".format(dataSong.shape))\n",
    "lines = !find ./data/song_data -name \\*.json | wc -l\n",
    "print(\"DataSong (song_data) nb ligne in linux is {}\".format(lines))\n",
    "print(dataSong.dtypes)\n",
    "# compter la repetition des valeurs \n",
    "print(dataSong.num_songs.value_counts())\n"
   ]
  },
  {
   "cell_type": "code",
   "execution_count": 16,
   "metadata": {},
   "outputs": [
    {
     "name": "stdout",
     "output_type": "stream",
     "text": [
      "<class 'pandas.core.frame.DataFrame'>\n",
      "RangeIndex: 71 entries, 0 to 70\n",
      "Data columns (total 10 columns):\n",
      "num_songs           71 non-null int64\n",
      "artist_id           71 non-null object\n",
      "artist_latitude     31 non-null float64\n",
      "artist_longitude    31 non-null float64\n",
      "artist_location     71 non-null object\n",
      "artist_name         71 non-null object\n",
      "song_id             71 non-null object\n",
      "title               71 non-null object\n",
      "duration            71 non-null float64\n",
      "year                71 non-null int64\n",
      "dtypes: float64(3), int64(2), object(5)\n",
      "memory usage: 5.7+ KB\n"
     ]
    }
   ],
   "source": [
    "dataSong.info()"
   ]
  },
  {
   "cell_type": "markdown",
   "metadata": {},
   "source": [
    "## Exploration LOG_DATA"
   ]
  },
  {
   "cell_type": "code",
   "execution_count": 6,
   "metadata": {},
   "outputs": [],
   "source": [
    "json_files = []\n",
    "for dirpath, dirnames, filenames in os.walk(\"./data/log_data/\"):\n",
    "    for filename in [f for f in filenames if f.endswith(\".json\")]:\n",
    "        path_file = os.path.join(dirpath, filename)\n",
    "        json_files.append(path_file)"
   ]
  },
  {
   "cell_type": "code",
   "execution_count": 7,
   "metadata": {
    "scrolled": true
   },
   "outputs": [
    {
     "data": {
      "text/plain": [
       "(8056, 18)"
      ]
     },
     "execution_count": 7,
     "metadata": {},
     "output_type": "execute_result"
    }
   ],
   "source": [
    "#df = pd.read_json(filepath, lines=True)\n",
    "import json\n",
    "data_raw = []\n",
    "for filepath in json_files:\n",
    "    for line in open(filepath, 'r'):\n",
    "        data_raw.append(json.loads(line))\n",
    "dataLog = pd.DataFrame(data_raw)    \n",
    "dataLog.shape"
   ]
  },
  {
   "cell_type": "code",
   "execution_count": 17,
   "metadata": {},
   "outputs": [
    {
     "name": "stdout",
     "output_type": "stream",
     "text": [
      "<class 'pandas.core.frame.DataFrame'>\n",
      "RangeIndex: 8056 entries, 0 to 8055\n",
      "Data columns (total 18 columns):\n",
      "artist           6820 non-null object\n",
      "auth             8056 non-null object\n",
      "firstName        7770 non-null object\n",
      "gender           7770 non-null object\n",
      "itemInSession    8056 non-null int64\n",
      "lastName         7770 non-null object\n",
      "length           6820 non-null float64\n",
      "level            8056 non-null object\n",
      "location         7770 non-null object\n",
      "method           8056 non-null object\n",
      "page             8056 non-null object\n",
      "registration     7770 non-null float64\n",
      "sessionId        8056 non-null int64\n",
      "song             6820 non-null object\n",
      "status           8056 non-null int64\n",
      "ts               8056 non-null datetime64[ns]\n",
      "userAgent        7770 non-null object\n",
      "userId           8056 non-null object\n",
      "dtypes: datetime64[ns](1), float64(2), int64(3), object(12)\n",
      "memory usage: 1.1+ MB\n"
     ]
    }
   ],
   "source": [
    "dataLog.info()"
   ]
  },
  {
   "cell_type": "code",
   "execution_count": 8,
   "metadata": {},
   "outputs": [],
   "source": [
    "# formater la date d'un timestamp miliseconde en y, m, d, s ...\n",
    "dataLog['ts'] = pd.to_datetime(dataLog['ts'], unit = 'ms')"
   ]
  },
  {
   "cell_type": "code",
   "execution_count": 18,
   "metadata": {},
   "outputs": [
    {
     "name": "stdout",
     "output_type": "stream",
     "text": [
      "       artist       auth firstName gender  itemInSession lastName     length  \\\n",
      "0    Mudhoney  Logged In    Aleena      F             10    Kirby  231.57506   \n",
      "1  Carpenters  Logged In    Aleena      F             11    Kirby  238.39302   \n",
      "2        None  Logged In    Aleena      F             12    Kirby        NaN   \n",
      "\n",
      "  level                  location method      page  registration  sessionId  \\\n",
      "0  paid  Waterloo-Cedar Falls, IA    PUT  NextSong  1.541023e+12        637   \n",
      "1  paid  Waterloo-Cedar Falls, IA    PUT  NextSong  1.541023e+12        637   \n",
      "2  paid  Waterloo-Cedar Falls, IA    GET      Home  1.541023e+12        637   \n",
      "\n",
      "                  song  status                      ts  \\\n",
      "0       Get Into Yours     200 2018-11-16 00:00:57.796   \n",
      "1  Yesterday Once More     200 2018-11-16 00:04:48.796   \n",
      "2                 None     200 2018-11-16 00:04:51.796   \n",
      "\n",
      "                                           userAgent userId  \n",
      "0  Mozilla/5.0 (Macintosh; Intel Mac OS X 10.9; r...     44  \n",
      "1  Mozilla/5.0 (Macintosh; Intel Mac OS X 10.9; r...     44  \n",
      "2  Mozilla/5.0 (Macintosh; Intel Mac OS X 10.9; r...     44  \n"
     ]
    }
   ],
   "source": [
    "print(dataLog.head(3))"
   ]
  },
  {
   "cell_type": "code",
   "execution_count": 10,
   "metadata": {},
   "outputs": [
    {
     "name": "stdout",
     "output_type": "stream",
     "text": [
      "Tom Petty\n",
      "Tom Petty\n",
      "Tom Petty\n",
      "Tom Petty\n",
      "Line Renaud\n",
      "Sophie B. Hawkins\n",
      "Lupe Fiasco\n",
      "Lupe Fiasco\n",
      "Lupe Fiasco\n",
      "Lupe Fiasco\n",
      "Lupe Fiasco\n",
      "Gwen Stefani\n",
      "Trafik\n",
      "Lionel Richie\n",
      "Lionel Richie\n",
      "Lionel Richie\n",
      "Lionel Richie\n",
      "Jimmy Wakely\n",
      "Blue Rodeo\n",
      "Elena\n",
      "Gob\n"
     ]
    }
   ],
   "source": [
    "equal_indices = []\n",
    "for i in range(len(dataSong['artist_name'])):\n",
    "    for j in range(len(dataLog['artist'])):\n",
    "        if dataSong['artist_name'][i] == dataLog['artist'][j]:\n",
    "            equal_indices.append(i)\n",
    "            print(dataSong['artist_name'][i])"
   ]
  },
  {
   "cell_type": "code",
   "execution_count": 7,
   "metadata": {},
   "outputs": [
    {
     "data": {
      "text/plain": [
       "artist            object\n",
       "auth              object\n",
       "firstName         object\n",
       "gender            object\n",
       "itemInSession      int64\n",
       "lastName          object\n",
       "length           float64\n",
       "level             object\n",
       "location          object\n",
       "method            object\n",
       "page              object\n",
       "registration     float64\n",
       "sessionId          int64\n",
       "song              object\n",
       "status             int64\n",
       "ts                 int64\n",
       "userAgent         object\n",
       "userId            object\n",
       "dtype: object"
      ]
     },
     "execution_count": 7,
     "metadata": {},
     "output_type": "execute_result"
    }
   ],
   "source": [
    "dataLog.dtypes"
   ]
  },
  {
   "cell_type": "markdown",
   "metadata": {},
   "source": [
    "### About artist and song\n",
    "num_songs = integer  (i don't know what is it)\n",
    "#artist_id = SONGPLAYS ARTISTS 'artist_id' text\n",
    "#artist_latitude = ARTISTS 'latitude' numeric\t\n",
    "#artist_longitude = ARTISTS 'longitude' numeric\n",
    "#artist_location =  ARTISTS 'location' text\t\n",
    "#artist_name = ARTISTS 'name' text\n",
    "#song_id = SONGPLAYS SONGS 'song_id' text\n",
    "#title = SONGS 'title' text\n",
    "#duration = SONGS 'duration' numeric\n",
    "#year = SONGS 'year' integer"
   ]
  },
  {
   "cell_type": "markdown",
   "metadata": {},
   "source": [
    "### About log\n",
    "artist = text  \n",
    "auth = text  \n",
    "#firstName = USERS 'first_name' text  \n",
    "#gender = USERS 'gender' text  \n",
    "itemInSession = interger  \n",
    "#lastName = USERS 'last_name' text  \t\n",
    "length = numeric  \n",
    "#level = SONGPLAYS USERS 'level' text  \n",
    "#location =\tSONGPLAYS 'location' text  \n",
    "method = text  \n",
    "page = text  \n",
    "registration = integer   \t\n",
    "#sessionId = SONGPLAYS 'session_id' integer  \n",
    "song = text  \n",
    "status = integer  \n",
    "#ts = SONGPLAYS TIME 'start_time' integer  \n",
    "#userAgent = SONGPLAYS 'user_agent' text  \n",
    "#userId = SONGPLAYS USERS 'user_id' integer  "
   ]
  },
  {
   "cell_type": "markdown",
   "metadata": {},
   "source": [
    "Apres analyse des donnees avec python, toutes les donnees a rentrer dans la table d'apres les 2 data set on ete trouve\n",
    "exepte:  \n",
    "* SONGPLAYS songplay_id\n",
    "* TIME hour\n",
    "* TIME day\n",
    "* TIME week\n",
    "* TIME month\n",
    "* TIME year\n",
    "* TIME weekday"
   ]
  },
  {
   "cell_type": "code",
   "execution_count": null,
   "metadata": {},
   "outputs": [],
   "source": []
  },
  {
   "cell_type": "code",
   "execution_count": null,
   "metadata": {},
   "outputs": [],
   "source": []
  }
 ],
 "metadata": {
  "kernelspec": {
   "display_name": "Python 3",
   "language": "python",
   "name": "python3"
  },
  "language_info": {
   "codemirror_mode": {
    "name": "ipython",
    "version": 3
   },
   "file_extension": ".py",
   "mimetype": "text/x-python",
   "name": "python",
   "nbconvert_exporter": "python",
   "pygments_lexer": "ipython3",
   "version": "3.6.9"
  }
 },
 "nbformat": 4,
 "nbformat_minor": 2
}
