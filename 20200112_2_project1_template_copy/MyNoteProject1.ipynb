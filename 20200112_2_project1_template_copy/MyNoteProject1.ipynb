{
 "cells": [
  {
   "cell_type": "markdown",
   "metadata": {},
   "source": [
    "## Explore the data"
   ]
  },
  {
   "cell_type": "code",
   "execution_count": 1,
   "metadata": {},
   "outputs": [],
   "source": [
    "import pandas as pd\n",
    "import json\n",
    "import os\n",
    "#import os.path"
   ]
  },
  {
   "cell_type": "markdown",
   "metadata": {},
   "source": [
    "## Exploration SONG_DATA"
   ]
  },
  {
   "cell_type": "code",
   "execution_count": 2,
   "metadata": {},
   "outputs": [
    {
     "data": {
      "text/html": [
       "<div>\n",
       "<style scoped>\n",
       "    .dataframe tbody tr th:only-of-type {\n",
       "        vertical-align: middle;\n",
       "    }\n",
       "\n",
       "    .dataframe tbody tr th {\n",
       "        vertical-align: top;\n",
       "    }\n",
       "\n",
       "    .dataframe thead th {\n",
       "        text-align: right;\n",
       "    }\n",
       "</style>\n",
       "<table border=\"1\" class=\"dataframe\">\n",
       "  <thead>\n",
       "    <tr style=\"text-align: right;\">\n",
       "      <th></th>\n",
       "      <th>num_songs</th>\n",
       "      <th>artist_id</th>\n",
       "      <th>artist_latitude</th>\n",
       "      <th>artist_longitude</th>\n",
       "      <th>artist_location</th>\n",
       "      <th>artist_name</th>\n",
       "      <th>song_id</th>\n",
       "      <th>title</th>\n",
       "      <th>duration</th>\n",
       "      <th>year</th>\n",
       "    </tr>\n",
       "  </thead>\n",
       "  <tbody>\n",
       "    <tr>\n",
       "      <td>69</td>\n",
       "      <td>1</td>\n",
       "      <td>ARMJAGH1187FB546F3</td>\n",
       "      <td>35.14968</td>\n",
       "      <td>-90.04892</td>\n",
       "      <td>Memphis, TN</td>\n",
       "      <td>The Box Tops</td>\n",
       "      <td>SOCIWDW12A8C13D406</td>\n",
       "      <td>Soul Deep</td>\n",
       "      <td>148.03546</td>\n",
       "      <td>1969</td>\n",
       "    </tr>\n",
       "    <tr>\n",
       "      <td>70</td>\n",
       "      <td>1</td>\n",
       "      <td>ARXR32B1187FB57099</td>\n",
       "      <td>NaN</td>\n",
       "      <td>NaN</td>\n",
       "      <td></td>\n",
       "      <td>Gob</td>\n",
       "      <td>SOFSOCN12A8C143F5D</td>\n",
       "      <td>Face the Ashes</td>\n",
       "      <td>209.60608</td>\n",
       "      <td>2007</td>\n",
       "    </tr>\n",
       "  </tbody>\n",
       "</table>\n",
       "</div>"
      ],
      "text/plain": [
       "    num_songs           artist_id  artist_latitude  artist_longitude  \\\n",
       "69          1  ARMJAGH1187FB546F3         35.14968         -90.04892   \n",
       "70          1  ARXR32B1187FB57099              NaN               NaN   \n",
       "\n",
       "   artist_location   artist_name             song_id           title  \\\n",
       "69     Memphis, TN  The Box Tops  SOCIWDW12A8C13D406       Soul Deep   \n",
       "70                           Gob  SOFSOCN12A8C143F5D  Face the Ashes   \n",
       "\n",
       "     duration  year  \n",
       "69  148.03546  1969  \n",
       "70  209.60608  2007  "
      ]
     },
     "execution_count": 2,
     "metadata": {},
     "output_type": "execute_result"
    }
   ],
   "source": [
    "data_raw =[]\n",
    "folder_path = \"data/song_data\"\n",
    "for path, dirs, files in os.walk(folder_path):\n",
    "    for filename in files:\n",
    "        Mypath_filename = os.path.join(path, filename)\n",
    "        with open(Mypath_filename) as f:\n",
    "            data = json.load(f)\n",
    "        data_raw.append(data)\n",
    "dataSong = pd.DataFrame(data_raw)\n",
    "dataSong.tail(2)"
   ]
  },
  {
   "cell_type": "code",
   "execution_count": 12,
   "metadata": {
    "scrolled": false
   },
   "outputs": [
    {
     "name": "stdout",
     "output_type": "stream",
     "text": [
      "DataSong Shape is (71, 10)\n",
      "DataSong (song_data) nb ligne in linux is ['71']\n",
      "num_songs             int64\n",
      "artist_id            object\n",
      "artist_latitude     float64\n",
      "artist_longitude    float64\n",
      "artist_location      object\n",
      "artist_name          object\n",
      "song_id              object\n",
      "title                object\n",
      "duration            float64\n",
      "year                  int64\n",
      "dtype: object\n",
      "1    71\n",
      "Name: num_songs, dtype: int64\n"
     ]
    }
   ],
   "source": [
    "print(\"DataSong Shape is {}\".format(dataSong.shape))\n",
    "lines = !find ./data/song_data -name \\*.json | wc -l\n",
    "print(\"DataSong (song_data) nb ligne in linux is {}\".format(lines))\n",
    "print(dataSong.dtypes)\n",
    "# compter la repetition des valeurs \n",
    "print(dataSong.num_songs.value_counts())\n"
   ]
  },
  {
   "cell_type": "markdown",
   "metadata": {},
   "source": [
    "## Exploration LOG_DATA"
   ]
  },
  {
   "cell_type": "code",
   "execution_count": 4,
   "metadata": {},
   "outputs": [],
   "source": [
    "json_files = []\n",
    "for dirpath, dirnames, filenames in os.walk(\"./data/log_data/\"):\n",
    "    for filename in [f for f in filenames if f.endswith(\".json\")]:\n",
    "        path_file = os.path.join(dirpath, filename)\n",
    "        json_files.append(path_file)"
   ]
  },
  {
   "cell_type": "code",
   "execution_count": 5,
   "metadata": {
    "scrolled": true
   },
   "outputs": [
    {
     "data": {
      "text/plain": [
       "(8056, 18)"
      ]
     },
     "execution_count": 5,
     "metadata": {},
     "output_type": "execute_result"
    }
   ],
   "source": [
    "#df = pd.read_json(filepath, lines=True)\n",
    "import json\n",
    "data_raw = []\n",
    "for filepath in json_files:\n",
    "    for line in open(filepath, 'r'):\n",
    "        data_raw.append(json.loads(line))\n",
    "dataLog = pd.DataFrame(data_raw)    \n",
    "dataLog.shape"
   ]
  },
  {
   "cell_type": "code",
   "execution_count": 21,
   "metadata": {},
   "outputs": [
    {
     "name": "stdout",
     "output_type": "stream",
     "text": [
      "589    128\n",
      "984    118\n",
      "324    114\n",
      "672    107\n",
      "293    106\n",
      "      ... \n",
      "587      1\n",
      "234      1\n",
      "125      1\n",
      "230      1\n",
      "6        1\n",
      "Name: sessionId, Length: 941, dtype: int64\n"
     ]
    }
   ],
   "source": []
  },
  {
   "cell_type": "code",
   "execution_count": 13,
   "metadata": {},
   "outputs": [],
   "source": [
    "# formater la date d'un timestamp miliseconde en y, m, d, s ...\n",
    "dataLog['ts'] = pd.to_datetime(dataLog['ts'], unit = 'ms')"
   ]
  },
  {
   "cell_type": "code",
   "execution_count": 15,
   "metadata": {},
   "outputs": [
    {
     "name": "stdout",
     "output_type": "stream",
     "text": [
      "                 artist       auth firstName gender  itemInSession lastName  \\\n",
      "0              Mudhoney  Logged In    Aleena      F             10    Kirby   \n",
      "1            Carpenters  Logged In    Aleena      F             11    Kirby   \n",
      "2                  None  Logged In    Aleena      F             12    Kirby   \n",
      "3         Kings Of Leon  Logged In    Aleena      F             13    Kirby   \n",
      "4  The Bloody Beetroots  Logged In    Aleena      F             14    Kirby   \n",
      "5         Kings Of Leon  Logged In    Aleena      F             15    Kirby   \n",
      "6           Euge Groove  Logged In    Aleena      F             16    Kirby   \n",
      "7               Soltero  Logged In    Aleena      F             17    Kirby   \n",
      "8               Nirvana  Logged In    Aleena      F             18    Kirby   \n",
      "9                  None  Logged In    Jayden      F              0    Duffy   \n",
      "\n",
      "      length level                     location method      page  \\\n",
      "0  231.57506  paid     Waterloo-Cedar Falls, IA    PUT  NextSong   \n",
      "1  238.39302  paid     Waterloo-Cedar Falls, IA    PUT  NextSong   \n",
      "2        NaN  paid     Waterloo-Cedar Falls, IA    GET      Home   \n",
      "3  185.28608  paid     Waterloo-Cedar Falls, IA    PUT  NextSong   \n",
      "4  201.97832  paid     Waterloo-Cedar Falls, IA    PUT  NextSong   \n",
      "5  201.79546  paid     Waterloo-Cedar Falls, IA    PUT  NextSong   \n",
      "6  265.48200  paid     Waterloo-Cedar Falls, IA    PUT  NextSong   \n",
      "7  249.07710  paid     Waterloo-Cedar Falls, IA    PUT  NextSong   \n",
      "8  257.01832  paid     Waterloo-Cedar Falls, IA    PUT  NextSong   \n",
      "9        NaN  free  Seattle-Tacoma-Bellevue, WA    GET      Home   \n",
      "\n",
      "   registration  sessionId                         song  status  \\\n",
      "0  1.541023e+12        637               Get Into Yours     200   \n",
      "1  1.541023e+12        637          Yesterday Once More     200   \n",
      "2  1.541023e+12        637                         None     200   \n",
      "3  1.541023e+12        637              Taper Jean Girl     200   \n",
      "4  1.541023e+12        637  Warp 1.9 (feat. Steve Aoki)     200   \n",
      "5  1.541023e+12        637                      Revelry     200   \n",
      "6  1.541023e+12        637                     Tenderly     200   \n",
      "7  1.541023e+12        637              Bleeding Hearts     200   \n",
      "8  1.541023e+12        637                      Lithium     200   \n",
      "9  1.540146e+12        635                         None     200   \n",
      "\n",
      "                       ts                                          userAgent  \\\n",
      "0 2018-11-16 00:00:57.796  Mozilla/5.0 (Macintosh; Intel Mac OS X 10.9; r...   \n",
      "1 2018-11-16 00:04:48.796  Mozilla/5.0 (Macintosh; Intel Mac OS X 10.9; r...   \n",
      "2 2018-11-16 00:04:51.796  Mozilla/5.0 (Macintosh; Intel Mac OS X 10.9; r...   \n",
      "3 2018-11-16 00:08:46.796  Mozilla/5.0 (Macintosh; Intel Mac OS X 10.9; r...   \n",
      "4 2018-11-16 00:11:51.796  Mozilla/5.0 (Macintosh; Intel Mac OS X 10.9; r...   \n",
      "5 2018-11-16 00:15:12.796  Mozilla/5.0 (Macintosh; Intel Mac OS X 10.9; r...   \n",
      "6 2018-11-16 00:18:33.796  Mozilla/5.0 (Macintosh; Intel Mac OS X 10.9; r...   \n",
      "7 2018-11-16 00:22:58.796  Mozilla/5.0 (Macintosh; Intel Mac OS X 10.9; r...   \n",
      "8 2018-11-16 00:27:07.796  Mozilla/5.0 (Macintosh; Intel Mac OS X 10.9; r...   \n",
      "9 2018-11-16 01:33:39.796  \"Mozilla/5.0 (iPhone; CPU iPhone OS 7_1_2 like...   \n",
      "\n",
      "  userId  \n",
      "0     44  \n",
      "1     44  \n",
      "2     44  \n",
      "3     44  \n",
      "4     44  \n",
      "5     44  \n",
      "6     44  \n",
      "7     44  \n",
      "8     44  \n",
      "9     76  \n"
     ]
    }
   ],
   "source": [
    "print(dataLog.head(10))"
   ]
  },
  {
   "cell_type": "code",
   "execution_count": 11,
   "metadata": {},
   "outputs": [
    {
     "name": "stdout",
     "output_type": "stream",
     "text": [
      "Tom Petty\n",
      "Tom Petty\n",
      "Tom Petty\n",
      "Tom Petty\n",
      "Line Renaud\n",
      "Sophie B. Hawkins\n",
      "Lupe Fiasco\n",
      "Lupe Fiasco\n",
      "Lupe Fiasco\n",
      "Lupe Fiasco\n",
      "Lupe Fiasco\n",
      "Gwen Stefani\n",
      "Trafik\n",
      "Lionel Richie\n",
      "Lionel Richie\n",
      "Lionel Richie\n",
      "Lionel Richie\n",
      "Jimmy Wakely\n",
      "Blue Rodeo\n",
      "Elena\n",
      "Gob\n"
     ]
    }
   ],
   "source": [
    "equal_indices = []\n",
    "for i in range(len(dataSong['artist_name'])):\n",
    "    for j in range(len(dataLog['artist'])):\n",
    "        if dataSong['artist_name'][i] == dataLog['artist'][j]:\n",
    "            equal_indices.append(i)\n",
    "            print(dataSong['artist_name'][i])"
   ]
  },
  {
   "cell_type": "code",
   "execution_count": 7,
   "metadata": {},
   "outputs": [
    {
     "data": {
      "text/plain": [
       "artist            object\n",
       "auth              object\n",
       "firstName         object\n",
       "gender            object\n",
       "itemInSession      int64\n",
       "lastName          object\n",
       "length           float64\n",
       "level             object\n",
       "location          object\n",
       "method            object\n",
       "page              object\n",
       "registration     float64\n",
       "sessionId          int64\n",
       "song              object\n",
       "status             int64\n",
       "ts                 int64\n",
       "userAgent         object\n",
       "userId            object\n",
       "dtype: object"
      ]
     },
     "execution_count": 7,
     "metadata": {},
     "output_type": "execute_result"
    }
   ],
   "source": [
    "dataLog.dtypes"
   ]
  },
  {
   "cell_type": "markdown",
   "metadata": {},
   "source": [
    "### About artist and song\n",
    "num_songs = integer  (i don't know what is it)\n",
    "#artist_id = SONGPLAYS ARTISTS 'artist_id' text\n",
    "#artist_latitude = ARTISTS 'latitude' numeric\t\n",
    "#artist_longitude = ARTISTS 'longitude' numeric\n",
    "#artist_location =  ARTISTS 'location' text\t\n",
    "#artist_name = ARTISTS 'name' text\n",
    "#song_id = SONGPLAYS SONGS 'song_id' text\n",
    "#title = SONGS 'title' text\n",
    "#duration = SONGS 'duration' numeric\n",
    "#year = SONGS 'year' integer"
   ]
  },
  {
   "cell_type": "markdown",
   "metadata": {},
   "source": [
    "### About log\n",
    "artist = text  \n",
    "auth = text  \n",
    "#firstName = USERS 'first_name' text  \n",
    "#gender = USERS 'gender' text  \n",
    "itemInSession = interger  \n",
    "#lastName = USERS 'last_name' text  \t\n",
    "length = numeric  \n",
    "#level = SONGPLAYS USERS 'level' text  \n",
    "#location =\tSONGPLAYS 'location' text  \n",
    "method = text  \n",
    "page = text  \n",
    "registration = integer   \t\n",
    "#sessionId = SONGPLAYS 'session_id' integer  \n",
    "song = text  \n",
    "status = integer  \n",
    "#ts = SONGPLAYS TIME 'start_time' integer  \n",
    "#userAgent = SONGPLAYS 'user_agent' text  \n",
    "#userId = SONGPLAYS USERS 'user_id' integer  "
   ]
  },
  {
   "cell_type": "markdown",
   "metadata": {},
   "source": [
    "Apres analyse des donnees avec python, toutes les donnees a rentrer dans la table d'apres les 2 data set on ete trouve\n",
    "exepte:  \n",
    "* SONGPLAYS songplay_id\n",
    "* TIME hour\n",
    "* TIME day\n",
    "* TIME week\n",
    "* TIME month\n",
    "* TIME year\n",
    "* TIME weekday"
   ]
  },
  {
   "cell_type": "code",
   "execution_count": null,
   "metadata": {},
   "outputs": [],
   "source": []
  },
  {
   "cell_type": "code",
   "execution_count": null,
   "metadata": {},
   "outputs": [],
   "source": []
  }
 ],
 "metadata": {
  "kernelspec": {
   "display_name": "Python 3",
   "language": "python",
   "name": "python3"
  },
  "language_info": {
   "codemirror_mode": {
    "name": "ipython",
    "version": 3
   },
   "file_extension": ".py",
   "mimetype": "text/x-python",
   "name": "python",
   "nbconvert_exporter": "python",
   "pygments_lexer": "ipython3",
   "version": "3.6.9"
  }
 },
 "nbformat": 4,
 "nbformat_minor": 2
}
