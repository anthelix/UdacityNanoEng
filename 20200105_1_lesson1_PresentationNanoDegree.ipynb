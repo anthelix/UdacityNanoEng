{
 "cells": [
  {
   "cell_type": "markdown",
   "metadata": {},
   "source": [
    "# Welcome to the Nanodegree Program"
   ]
  },
  {
   "cell_type": "markdown",
   "metadata": {},
   "source": [
    "![HierarchyOfNeeds](./image/HierarchyOfNeeds.png)"
   ]
  },
  {
   "cell_type": "markdown",
   "metadata": {},
   "source": [
    "![DataRoles](./image/DataRoles.png)"
   ]
  },
  {
   "cell_type": "markdown",
   "metadata": {},
   "source": [
    "![DatEngActivitie](./image/DatEngActivities.png)"
   ]
  },
  {
   "cell_type": "markdown",
   "metadata": {},
   "source": [
    "![SkillsSets](./image/SkillsSets.png)"
   ]
  },
  {
   "cell_type": "markdown",
   "metadata": {},
   "source": [
    "### Histoire"
   ]
  },
  {
   "cell_type": "markdown",
   "metadata": {},
   "source": [
    "[ON the evolution of Data Engineering](https://medium.com/analytics-and-data/on-the-evolution-of-data-engineering-c5e56d273e37)\n",
    "* Big data, growing number oftechnologies\n",
    "* 2006, with Hadoop, more easier and cheaper to store large amount of data\n",
    "* Data Orchestration Engines, python ecosystem in the PyData\n",
    "* Machine Learning: improvement in SKLearn (2007), produce ready workflow for moderately sized datasets\n",
    "* Spark and Real-time: 2014, democratized machine leraning computation on Big Data, a way to easily process streaming data, window toward real-time processing\n",
    "* Cloud development and Severless. AWS lauched in 2006. construit sur Haddop, Elastic Map Reduce launch in 2009, making easier spin up and scale Hadoop clusters\n",
    "* move to the cloud : storage and compute was infinite one can pay for it"
   ]
  },
  {
   "cell_type": "markdown",
   "metadata": {},
   "source": [
    "[Data EngineeringIntroduction and Epochs](https://learn.panoply.io/hubfs/Data%20Engineering%20-%20Introduction%20and%20Epochs.pdf)\n",
    "* 60s, computers more popular, dvpment of langage and scripting langage, so programming possible for more people. Cobol, Fortran, Algol\n",
    "* 70s & 80s built the framing for the data information enginnering structure\n",
    "    * by understanding how data is be used, appropriate struct can be created ... Naur\n",
    "    * Data processing, driven information enginnering. Planning Analysis, Design Construction. travail pour comprendre les bussiness process pour que la data soit bien utilise\n",
    "    * business centric and no more history driven. create an information system for where the business was going. \n",
    "* 90s digital storage became more cosst-effective than paper. so digital data became more accessible, more manipulate, cheaper\n",
    "    * people view data\n",
    "    * the use of data to boost top-line revenue\n",
    "* 00s emergence of Mainstreaming of big data\n",
    "    * Volume, key of big daata, petabytes, exabytes, zettabytes, require specialized tools\n",
    "    * Velocity, the amount of data captured increses, new way to store data, wich impact storage et networks. need to find ways to process et analyze data far more quickly\n",
    "    * Variety. more data more quickly, differenr type sush as the internet of Things\n",
    "    * Variability:. data today no have the same meaning tomorrow.  Ensuring that  you’re  able  to  assign  consistent  meaning  to  that  data,  even  as  underlying  conditions change, is increasingly necessary\n",
    "    * Veracity, for big data systems to be reliable and usable, you need to be able to ensure that the data is also accurate.\n",
    "    * Visualization, turning raw data elements into beautiful images that the viewer can immetiately grasp. charts, infographics, spreadsheets, make underlying information visually accessible\n",
    "    * Value. objectif de generer de la valeur pour l'entreprise, reduire les couts, accroitre les revenus, rationnaliser les processus"
   ]
  },
  {
   "cell_type": "markdown",
   "metadata": {},
   "source": [
    "### Data Engineering Tools"
   ]
  },
  {
   "cell_type": "markdown",
   "metadata": {},
   "source": [
    "![Big Data Landascape](./image/landscape.png)"
   ]
  },
  {
   "cell_type": "markdown",
   "metadata": {},
   "source": [
    "[Datafloq](https://datafloq.com/big-data-open-source-tools/os-home/)"
   ]
  },
  {
   "cell_type": "markdown",
   "metadata": {},
   "source": [
    "[Joviam](https://joviam.com/this-infographic-of-big-data-tools-will-blow-your-mind-infographic/)"
   ]
  },
  {
   "cell_type": "markdown",
   "metadata": {},
   "source": [
    "[sites et Livres](https://analyticsindiamag.com/data-engineering-101-top-tools-and-framework-resources/)"
   ]
  },
  {
   "cell_type": "markdown",
   "metadata": {},
   "source": [
    "[Burtch works](https://www.burtchworks.com/2018/09/10/the-rise-of-data-engineering-common-skills-and-tools/)"
   ]
  },
  {
   "cell_type": "code",
   "execution_count": null,
   "metadata": {},
   "outputs": [],
   "source": []
  }
 ],
 "metadata": {
  "kernelspec": {
   "display_name": "Python 3",
   "language": "python",
   "name": "python3"
  },
  "language_info": {
   "codemirror_mode": {
    "name": "ipython",
    "version": 3
   },
   "file_extension": ".py",
   "mimetype": "text/x-python",
   "name": "python",
   "nbconvert_exporter": "python",
   "pygments_lexer": "ipython3",
   "version": "3.7.4"
  }
 },
 "nbformat": 4,
 "nbformat_minor": 2
}
